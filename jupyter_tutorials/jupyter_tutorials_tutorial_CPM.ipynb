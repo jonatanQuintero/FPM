{
 "cells": [
  {
   "cell_type": "markdown",
   "metadata": {},
   "source": [
    "# ptyLab introduction (CP)\n",
    "\n",
    "ptyLab is a highly modular coding package which can be used for both conventional and Fourier ptychography. Due to the modular nature it is easy to modify the code for various tasks and add your own functions, such as a new reconstruction engine or a calibration routine. To understand ptyLab we need to understand the basic sub-modules/classes contained within, which are briefly outlined below:\n",
    "\n",
    "\n",
    " -  ExperimentalData - this module contains a single class ExperimentalData, that is used to import the experimental data from an .hdf5 file. If the file contains the experimental images stored as an image stack (called ptychogram), probe/LED positions and several experimental parameters, then the data can be successfully imported and reconstructed.\n",
    " -  Reconstruction - this module contains a single class Reconstruction, which creates various objects from the immutable ExperimentalData class, and objects used in the reconstruction process, which are mutable. It includes things that can be optimized, e.g. the probe/pupil, the imaging object, the sample-camera distance, the scan positions, and the tilt-plane angle. It also includes things that are needed in reconstruction, e.g. the coordinates/meshgrid of the object/probe/camera planes. \n",
    " -  Engines - All the engines used for the reconstruction are in this module, which take the ExperimentalData and Optimizable objects as parameters and perform object/probe/pupil reconstruction. This module contains a BaseEngine as a parent class, and the rest of engines (ePIE, mPIE, zPIE, aPIE, qNewton, etc) inherit from the BaseEngine.\n",
    " -  Params - this class stores parameters used to control the reconstruction. It includes general parameters such as positionsOrder, prpagatorType, and gpuSwitch, ect. It also includes all the switches and parameters for regularizations, e.g. orthogonalizationSwitch and orthogonalizationFrequency.\n",
    " -  Monitor - visualization classes used to display the reconstruction process. Currently it produces two plots, where the default figure shows the object/probe/error plot, and the second figure shows the diffraction patterns (both the measured and the estimated ones). There are parameters that are used to control how you want the plots to be, e.g. figureUpdateFrequency, objectZoom/probeZoom, ect."
   ]
  },
  {
   "cell_type": "code",
   "execution_count": 1,
   "metadata": {},
   "outputs": [
    {
     "ename": "ValueError",
     "evalue": "numpy.dtype size changed, may indicate binary incompatibility. Expected 96 from C header, got 88 from PyObject",
     "output_type": "error",
     "traceback": [
      "\u001b[1;31m---------------------------------------------------------------------------\u001b[0m",
      "\u001b[1;31mValueError\u001b[0m                                Traceback (most recent call last)",
      "Cell \u001b[1;32mIn[1], line 6\u001b[0m\n\u001b[0;32m      4\u001b[0m \u001b[38;5;28;01mimport\u001b[39;00m \u001b[38;5;21;01mnumpy\u001b[39;00m \u001b[38;5;28;01mas\u001b[39;00m \u001b[38;5;21;01mnp\u001b[39;00m\n\u001b[0;32m      5\u001b[0m \u001b[38;5;66;03m# import the PtyLab module\u001b[39;00m\n\u001b[1;32m----> 6\u001b[0m \u001b[38;5;28;01mimport\u001b[39;00m \u001b[38;5;21;01mPtyLab\u001b[39;00m\n",
      "File \u001b[1;32m~\\Documents\\Ptychography\\PtyLab.py\\PtyLab\\__init__.py:2\u001b[0m\n\u001b[0;32m      1\u001b[0m \u001b[38;5;28;01mfrom\u001b[39;00m \u001b[38;5;21;01mPtyLab\u001b[39;00m\u001b[38;5;21;01m.\u001b[39;00m\u001b[38;5;21;01mExperimentalData\u001b[39;00m\u001b[38;5;21;01m.\u001b[39;00m\u001b[38;5;21;01mExperimentalData\u001b[39;00m \u001b[38;5;28;01mimport\u001b[39;00m ExperimentalData\n\u001b[1;32m----> 2\u001b[0m \u001b[38;5;28;01mfrom\u001b[39;00m \u001b[38;5;21;01mPtyLab\u001b[39;00m\u001b[38;5;21;01m.\u001b[39;00m\u001b[38;5;21;01mReconstruction\u001b[39;00m\u001b[38;5;21;01m.\u001b[39;00m\u001b[38;5;21;01mReconstruction\u001b[39;00m \u001b[38;5;28;01mimport\u001b[39;00m Reconstruction\n\u001b[0;32m      3\u001b[0m \u001b[38;5;28;01mfrom\u001b[39;00m \u001b[38;5;21;01mPtyLab\u001b[39;00m\u001b[38;5;21;01m.\u001b[39;00m\u001b[38;5;21;01mReconstruction\u001b[39;00m\u001b[38;5;21;01m.\u001b[39;00m\u001b[38;5;21;01mCalibrationFPM\u001b[39;00m \u001b[38;5;28;01mimport\u001b[39;00m IlluminationCalibration\n\u001b[0;32m      4\u001b[0m \u001b[38;5;28;01mfrom\u001b[39;00m \u001b[38;5;21;01mPtyLab\u001b[39;00m\u001b[38;5;21;01m.\u001b[39;00m\u001b[38;5;21;01mMonitor\u001b[39;00m\u001b[38;5;21;01m.\u001b[39;00m\u001b[38;5;21;01mMonitor\u001b[39;00m \u001b[38;5;28;01mimport\u001b[39;00m Monitor, DummyMonitor\n",
      "File \u001b[1;32m~\\Documents\\Ptychography\\PtyLab.py\\PtyLab\\Reconstruction\\Reconstruction.py:11\u001b[0m\n\u001b[0;32m      8\u001b[0m \u001b[38;5;66;03m# logging.basicConfig(level=logging.DEBUG)\u001b[39;00m\n\u001b[0;32m      9\u001b[0m \u001b[38;5;28;01mfrom\u001b[39;00m \u001b[38;5;21;01mPtyLab\u001b[39;00m\u001b[38;5;21;01m.\u001b[39;00m\u001b[38;5;21;01mRegularizers\u001b[39;00m \u001b[38;5;28;01mimport\u001b[39;00m metric_at, TV\n\u001b[1;32m---> 11\u001b[0m \u001b[38;5;28;01mfrom\u001b[39;00m \u001b[38;5;21;01mPtyLab\u001b[39;00m\u001b[38;5;21;01m.\u001b[39;00m\u001b[38;5;21;01mutils\u001b[39;00m\u001b[38;5;21;01m.\u001b[39;00m\u001b[38;5;21;01minitializationFunctions\u001b[39;00m \u001b[38;5;28;01mimport\u001b[39;00m initialProbeOrObject\n\u001b[0;32m     12\u001b[0m \u001b[38;5;28;01mfrom\u001b[39;00m \u001b[38;5;21;01mPtyLab\u001b[39;00m\u001b[38;5;21;01m.\u001b[39;00m\u001b[38;5;21;01mutils\u001b[39;00m\u001b[38;5;21;01m.\u001b[39;00m\u001b[38;5;21;01mgpuUtils\u001b[39;00m \u001b[38;5;28;01mimport\u001b[39;00m (\n\u001b[0;32m     13\u001b[0m     transfer_fields_to_cpu,\n\u001b[0;32m     14\u001b[0m     transfer_fields_to_gpu,\n\u001b[0;32m     15\u001b[0m     getArrayModule,\n\u001b[0;32m     16\u001b[0m )\n\u001b[0;32m     17\u001b[0m \u001b[38;5;28;01mfrom\u001b[39;00m \u001b[38;5;21;01mPtyLab\u001b[39;00m \u001b[38;5;28;01mimport\u001b[39;00m Params\n",
      "File \u001b[1;32m~\\Documents\\Ptychography\\PtyLab.py\\PtyLab\\utils\\initializationFunctions.py:7\u001b[0m\n\u001b[0;32m      5\u001b[0m \u001b[38;5;28;01mfrom\u001b[39;00m \u001b[38;5;21;01mscipy\u001b[39;00m\u001b[38;5;21;01m.\u001b[39;00m\u001b[38;5;21;01mndimage\u001b[39;00m \u001b[38;5;28;01mimport\u001b[39;00m gaussian_filter\n\u001b[0;32m      6\u001b[0m \u001b[38;5;28;01mfrom\u001b[39;00m \u001b[38;5;21;01mscipy\u001b[39;00m \u001b[38;5;28;01mimport\u001b[39;00m ndimage\n\u001b[1;32m----> 7\u001b[0m \u001b[38;5;28;01mfrom\u001b[39;00m \u001b[38;5;21;01mskimage\u001b[39;00m\u001b[38;5;21;01m.\u001b[39;00m\u001b[38;5;21;01mtransform\u001b[39;00m \u001b[38;5;28;01mimport\u001b[39;00m rescale\n\u001b[0;32m     10\u001b[0m \u001b[38;5;28;01mdef\u001b[39;00m \u001b[38;5;21minitialProbeOrObject\u001b[39m(shape, type_of_init, data, logger: logging\u001b[38;5;241m.\u001b[39mLogger \u001b[38;5;241m=\u001b[39m \u001b[38;5;28;01mNone\u001b[39;00m):\n\u001b[0;32m     11\u001b[0m \u001b[38;5;250m    \u001b[39m\u001b[38;5;124;03m\"\"\"\u001b[39;00m\n\u001b[0;32m     12\u001b[0m \u001b[38;5;124;03m    Initialization objects are created for the reconstruction. Currently\u001b[39;00m\n\u001b[0;32m     13\u001b[0m \u001b[38;5;124;03m    implemented:\u001b[39;00m\n\u001b[1;32m   (...)\u001b[0m\n\u001b[0;32m     21\u001b[0m \u001b[38;5;124;03m    :return:\u001b[39;00m\n\u001b[0;32m     22\u001b[0m \u001b[38;5;124;03m    \"\"\"\u001b[39;00m\n",
      "File \u001b[1;32m~\\.conda\\envs\\ptylab_venv\\Lib\\site-packages\\skimage\\__init__.py:122\u001b[0m\n\u001b[0;32m    118\u001b[0m     \u001b[38;5;66;03m# We are not importing the rest of the scikit during the build\u001b[39;00m\n\u001b[0;32m    119\u001b[0m     \u001b[38;5;66;03m# process, as it may not be compiled yet\u001b[39;00m\n\u001b[0;32m    120\u001b[0m \u001b[38;5;28;01melse\u001b[39;00m:\n\u001b[0;32m    121\u001b[0m     \u001b[38;5;28;01mtry\u001b[39;00m:\n\u001b[1;32m--> 122\u001b[0m         \u001b[38;5;28;01mfrom\u001b[39;00m \u001b[38;5;21;01m.\u001b[39;00m\u001b[38;5;21;01m_shared\u001b[39;00m \u001b[38;5;28;01mimport\u001b[39;00m geometry\n\u001b[0;32m    123\u001b[0m         \u001b[38;5;28;01mdel\u001b[39;00m geometry\n\u001b[0;32m    124\u001b[0m     \u001b[38;5;28;01mexcept\u001b[39;00m \u001b[38;5;167;01mImportError\u001b[39;00m \u001b[38;5;28;01mas\u001b[39;00m e:\n",
      "File \u001b[1;32mgeometry.pyx:1\u001b[0m, in \u001b[0;36minit skimage._shared.geometry\u001b[1;34m()\u001b[0m\n",
      "\u001b[1;31mValueError\u001b[0m: numpy.dtype size changed, may indicate binary incompatibility. Expected 96 from C header, got 88 from PyObject"
     ]
    }
   ],
   "source": [
    "%matplotlib notebook\n",
    "import matplotlib\n",
    "import matplotlib.pyplot as plt\n",
    "import numpy as np\n",
    "# import the PtyLab module\n",
    "import PtyLab"
   ]
  },
  {
   "cell_type": "code",
   "execution_count": 6,
   "metadata": {},
   "outputs": [],
   "source": [
    "# To perform CP(conventional ptychography) reconstructions, we use the dataset Simu.hdf5, which can be generated by running the simulation tutorial.\n",
    "\n",
    "\n",
    "fileName = 'Simu.hdf5'  # 'Simu.hdf5'\n",
    "\n",
    "from PtyLab.io import getExampleDataFolder\n",
    "filePath = getExampleDataFolder() / fileName # get the exampleDataFolder"
   ]
  },
  {
   "cell_type": "markdown",
   "metadata": {},
   "source": [
    "There's an easyInitializa method that you can call to initialize all the classes needed for a reconstruction. To do that you can uncomment the code below.\n",
    "\n",
    "But we recommend you to initialize each class one by one and follow the tutorial below."
   ]
  },
  {
   "cell_type": "code",
   "execution_count": 11,
   "metadata": {},
   "outputs": [
    {
     "name": "stderr",
     "output_type": "stream",
     "text": [
      "Copying attribute wavelength\n",
      "Copying attribute dxd\n",
      "Copying attribute theta\n",
      "Copying attribute spectralDensity\n",
      "Copying attribute entrancePupilDiameter\n"
     ]
    }
   ],
   "source": [
    "## optional\n",
    "exampleData, reconstruction, params, monitor, ePIE_engine = PtyLab.easyInitialize(filePath)"
   ]
  },
  {
   "cell_type": "markdown",
   "metadata": {},
   "source": [
    "## ExperimentalData class\n",
    "The data must be stored as a \".hdf5\" file, which enables structured file storage. For ptychographic data, experimental parameters such as wavelength or pixel size can be convieniently stored together with illumination/ecoder positions and the actual raw images/diffraction data in a single file.\n",
    "\n",
    "A minimal list of fields required for ptyLab to work are:\n",
    "- ptychogram - 3D image/diffraction data stack \n",
    "- wavelength - illumination lambda\n",
    "- encoder - encoder positions / illumination angles\n",
    "- dxd - detector pixel size\n",
    "- zo - sample-detector distance\n",
    "\n",
    "Also we have optional fields because they will either be computed later from the \"required_fields\" or are required for FPM, but not CPM (or vice-versa). If not provided by the user they will be set as None.\n",
    "- dxp - can be provided by the user (otherwise will be computed using dxp=dxd/magnification for FPM)\n",
    "- No -  number of upsampled pixels\n",
    "- Nd -  probe/pupil plane size, will be set to Ptychogram size by default\n",
    "- entrancePupilDiameter -  In CPM, put the estimate of the diameter of the beam in this variable. (different usage in FPM, check the tutorial for FPM)\n",
    "- spectralDensity -  a list wavelength for multi wavelength reconsruction\n",
    "- theta - tilt angle for reflection mode CPM\n",
    "- magnification - magnification, used for FPM computations of dxp\n",
    "\n",
    "The \".hdf5\" file must contain a field called \"ptychogram\" containing the experimental raw images as a 3D array of shape [numFrames,X,Y], where numFrames is the number of images corresponding to each illumination vector in the \"encoder\" and X-Y are the 2D image dimensions. \n",
    "\n",
    "The \".hdf5\" file must have a field called \"encoder\" containing the translation stage positions in units of meters (for CP) or the illumination angles in units of rad (for FP). The field \"encoder\" has a 2D shape [numFrames,2], where numFrames is the number of positions.\n",
    "\n",
    "We start off our demonstration by creating the ExperimentalData() class which is used to load the .hdf5 file. In this example the variable \"exampleData\" will contain our class."
   ]
  },
  {
   "cell_type": "code",
   "execution_count": 12,
   "metadata": {},
   "outputs": [],
   "source": [
    "# initialize the ExperimentalData class\n",
    "exampleData = PtyLab.ExperimentalData(filePath)"
   ]
  },
  {
   "cell_type": "code",
   "execution_count": 13,
   "metadata": {},
   "outputs": [
    {
     "name": "stdout",
     "output_type": "stream",
     "text": [
      "Min max ptychogram: 2.462452171423518e-14, 32837.0\n",
      "Min max ptychogram: 1.0704034878741355e-14, 4.516376698526149\n",
      "1.0704034878741355e-14 4.516376698526149\n"
     ]
    }
   ],
   "source": [
    "# now, all our experimental data is loaded into exampleData, and we can check our diffraction patterns (or ptychograms). \n",
    "exampleData.showPtychogram()  # close the figure to proceed"
   ]
  },
  {
   "cell_type": "markdown",
   "metadata": {},
   "source": [
    "## Reconstruction class\n",
    "The Reconstruction class creates an object which will be mutable during the reconstruction. We first initialize the reconstruction class, thereby coping necessary attributes from the exampleData to the reconstruction object."
   ]
  },
  {
   "cell_type": "code",
   "execution_count": 15,
   "metadata": {},
   "outputs": [
    {
     "name": "stderr",
     "output_type": "stream",
     "text": [
      "Copying attribute wavelength\n",
      "Copying attribute dxd\n",
      "Copying attribute theta\n",
      "Copying attribute spectralDensity\n",
      "Copying attribute entrancePupilDiameter\n"
     ]
    }
   ],
   "source": [
    "## initialize the Reconstruction class \n",
    "reconstruction = PtyLab.Reconstruction(exampleData,params)"
   ]
  },
  {
   "cell_type": "markdown",
   "metadata": {},
   "source": [
    "Initialize the probe and object (nlambda,nosm,npsm,nslice,Ny,Nx), default values for the first four axes are 1."
   ]
  },
  {
   "cell_type": "code",
   "execution_count": 16,
   "metadata": {},
   "outputs": [],
   "source": [
    "# now create an object to hold everything we're eventually interested in\n",
    "reconstruction.npsm = 1 # Number of probe modes to reconstruct\n",
    "reconstruction.nosm = 1 # Number of object modes to reconstruct\n",
    "reconstruction.nlambda = 1 # len(exampleData.spectralDensity) # Number of wavelength\n",
    "reconstruction.nslice = 1 # Number of object slice\n",
    "\n",
    "# set initial guesses\n",
    "reconstruction.initialProbe = 'circ'\n",
    "reconstruction.initialObject = 'ones'\n",
    "# initialize probe and object and related params\n",
    "reconstruction.initializeObjectProbe()\n",
    "\n",
    "# customize initial probe quadratic phase if wish\n",
    "reconstruction.probe = reconstruction.probe*np.exp(1.j*2*np.pi/reconstruction.wavelength * \n",
    "                                             (reconstruction.Xp**2+reconstruction.Yp**2)/(2*6e-3))\n"
   ]
  },
  {
   "cell_type": "markdown",
   "metadata": {},
   "source": [
    "## Monitor class\n",
    "This class will create a monitor to visualize the reconstruction. "
   ]
  },
  {
   "cell_type": "code",
   "execution_count": 17,
   "metadata": {},
   "outputs": [],
   "source": [
    "## Initialise the monitor class\n",
    "monitor = PtyLab.Monitor()"
   ]
  },
  {
   "cell_type": "code",
   "execution_count": 18,
   "metadata": {},
   "outputs": [],
   "source": [
    "## Set monitor properties\n",
    "monitor.verboseLevel = 'low'  # low (default): plot only one figure (object/probe/error), high: add a second figure showing measured and estimated diffraction patterns  \n",
    "monitor.figureUpdateFrequency = 1 # the frequency of the plots\n",
    "monitor.objectPlot = 'complex'  # options: complex, abs, angle\n",
    "monitor.objectZoom = 1.5   # control object plot FoV\n",
    "monitor.probeZoom = 0.5   # control probe plot FoV\n",
    "monitor.objectPlotContrast = 0.9 # control the contrast of object plot, normalized intensity is from [0,1], objectPlotContrast sets the maximum value for color axis\n",
    "monitor.probePlotContrast = 0.9  # control the contrast of probe plot"
   ]
  },
  {
   "cell_type": "markdown",
   "metadata": {},
   "source": [
    "## Params class\n",
    "This class holds the parameters that determine how the reconstruction is performed. For instance to determine whether the reconstruction is carried out on CPU or GPU, or what propagator we want to use.\n",
    "\n",
    "Various switches and parameters of different kinds of regularizations are also specified before a reconstruction is carried out. "
   ]
  },
  {
   "cell_type": "code",
   "execution_count": 19,
   "metadata": {},
   "outputs": [],
   "source": [
    "## Initialise Params class\n",
    "params = PtyLab.Params()"
   ]
  },
  {
   "cell_type": "code",
   "execution_count": 20,
   "metadata": {},
   "outputs": [],
   "source": [
    "## main parameters\n",
    "params.positionOrder = 'random'  # 'sequential' or 'random'\n",
    "params.propagator = 'Fresnel'  # Fraunhofer Fresnel ASP scaledASP polychromeASP scaledPolychromeASP\n",
    "\n",
    "## how do we want to reconstruct?\n",
    "params.gpuSwitch = True         # Turn on if gpu is available, with cupy imported.\n",
    "params.probePowerCorrectionSwitch = True # fix the power of the probe to the maximum of the ptychogram\n",
    "params.comStabilizationSwitch = True    # fix the center-of-mass of the probe in the center of the probe frame\n",
    "params.orthogonalizationSwitch = False  # turn on when performing mixed states reconstructions\n",
    "params.orthogonalizationFrequency = 10  # the frequency of performing orthogonalization\n",
    "params.fftshiftSwitch = False          \n",
    "params.intensityConstraint = 'standard'  # standard fluctuation exponential poission\n",
    "params.absorbingProbeBoundary = False\n",
    "params.objectContrastSwitch = False\n",
    "params.absObjectSwitch = False\n",
    "params.backgroundModeSwitch = False\n",
    "params.couplingSwitch = True\n",
    "params.couplingAleph = 1\n",
    "params.positionCorrectionSwitch = False"
   ]
  },
  {
   "cell_type": "markdown",
   "metadata": {},
   "source": [
    "## Engine class\n",
    "\n",
    "A specific engine can be imported (e.g. ePIE, mPIE etc.) to optimize our initial estimates for the object/probe. "
   ]
  },
  {
   "cell_type": "code",
   "execution_count": 21,
   "metadata": {},
   "outputs": [],
   "source": [
    "## Initialize the engine class by passing the exampleData, reconstruction, params, and monitor objects to the chosen engine\n",
    "ePIE = PtyLab.Engines.ePIE(reconstruction,exampleData,params,monitor)"
   ]
  },
  {
   "cell_type": "code",
   "execution_count": 22,
   "metadata": {},
   "outputs": [
    {
     "data": {
      "text/plain": [
       "<generator object ePIE.reconstruct at 0x000001E20B07D5F0>"
      ]
     },
     "execution_count": 22,
     "metadata": {},
     "output_type": "execute_result"
    }
   ],
   "source": [
    "ePIE.numIterations = 10\n",
    "ePIE.betaObject = 0.25\n",
    "ePIE.betaProbe = 0.25\n",
    "ePIE.reconstruct()"
   ]
  },
  {
   "cell_type": "code",
   "execution_count": 23,
   "metadata": {},
   "outputs": [
    {
     "name": "stderr",
     "output_type": "stream",
     "text": [
      "d:\\du\\ptylab\\PtyLab\\Engines\\BaseEngine.py:376: UserWarning: fftshiftSwitch set to false, this may lead to reduced performance\n",
      "  warnings.warn(\n"
     ]
    },
    {
     "data": {
      "application/javascript": [
       "/* Put everything inside the global mpl namespace */\n",
       "/* global mpl */\n",
       "window.mpl = {};\n",
       "\n",
       "mpl.get_websocket_type = function () {\n",
       "    if (typeof WebSocket !== 'undefined') {\n",
       "        return WebSocket;\n",
       "    } else if (typeof MozWebSocket !== 'undefined') {\n",
       "        return MozWebSocket;\n",
       "    } else {\n",
       "        alert(\n",
       "            'Your browser does not have WebSocket support. ' +\n",
       "                'Please try Chrome, Safari or Firefox ≥ 6. ' +\n",
       "                'Firefox 4 and 5 are also supported but you ' +\n",
       "                'have to enable WebSockets in about:config.'\n",
       "        );\n",
       "    }\n",
       "};\n",
       "\n",
       "mpl.figure = function (figure_id, websocket, ondownload, parent_element) {\n",
       "    this.id = figure_id;\n",
       "\n",
       "    this.ws = websocket;\n",
       "\n",
       "    this.supports_binary = this.ws.binaryType !== undefined;\n",
       "\n",
       "    if (!this.supports_binary) {\n",
       "        var warnings = document.getElementById('mpl-warnings');\n",
       "        if (warnings) {\n",
       "            warnings.style.display = 'block';\n",
       "            warnings.textContent =\n",
       "                'This browser does not support binary websocket messages. ' +\n",
       "                'Performance may be slow.';\n",
       "        }\n",
       "    }\n",
       "\n",
       "    this.imageObj = new Image();\n",
       "\n",
       "    this.context = undefined;\n",
       "    this.message = undefined;\n",
       "    this.canvas = undefined;\n",
       "    this.rubberband_canvas = undefined;\n",
       "    this.rubberband_context = undefined;\n",
       "    this.format_dropdown = undefined;\n",
       "\n",
       "    this.image_mode = 'full';\n",
       "\n",
       "    this.root = document.createElement('div');\n",
       "    this.root.setAttribute('style', 'display: inline-block');\n",
       "    this._root_extra_style(this.root);\n",
       "\n",
       "    parent_element.appendChild(this.root);\n",
       "\n",
       "    this._init_header(this);\n",
       "    this._init_canvas(this);\n",
       "    this._init_toolbar(this);\n",
       "\n",
       "    var fig = this;\n",
       "\n",
       "    this.waiting = false;\n",
       "\n",
       "    this.ws.onopen = function () {\n",
       "        fig.send_message('supports_binary', { value: fig.supports_binary });\n",
       "        fig.send_message('send_image_mode', {});\n",
       "        if (fig.ratio !== 1) {\n",
       "            fig.send_message('set_dpi_ratio', { dpi_ratio: fig.ratio });\n",
       "        }\n",
       "        fig.send_message('refresh', {});\n",
       "    };\n",
       "\n",
       "    this.imageObj.onload = function () {\n",
       "        if (fig.image_mode === 'full') {\n",
       "            // Full images could contain transparency (where diff images\n",
       "            // almost always do), so we need to clear the canvas so that\n",
       "            // there is no ghosting.\n",
       "            fig.context.clearRect(0, 0, fig.canvas.width, fig.canvas.height);\n",
       "        }\n",
       "        fig.context.drawImage(fig.imageObj, 0, 0);\n",
       "    };\n",
       "\n",
       "    this.imageObj.onunload = function () {\n",
       "        fig.ws.close();\n",
       "    };\n",
       "\n",
       "    this.ws.onmessage = this._make_on_message_function(this);\n",
       "\n",
       "    this.ondownload = ondownload;\n",
       "};\n",
       "\n",
       "mpl.figure.prototype._init_header = function () {\n",
       "    var titlebar = document.createElement('div');\n",
       "    titlebar.classList =\n",
       "        'ui-dialog-titlebar ui-widget-header ui-corner-all ui-helper-clearfix';\n",
       "    var titletext = document.createElement('div');\n",
       "    titletext.classList = 'ui-dialog-title';\n",
       "    titletext.setAttribute(\n",
       "        'style',\n",
       "        'width: 100%; text-align: center; padding: 3px;'\n",
       "    );\n",
       "    titlebar.appendChild(titletext);\n",
       "    this.root.appendChild(titlebar);\n",
       "    this.header = titletext;\n",
       "};\n",
       "\n",
       "mpl.figure.prototype._canvas_extra_style = function (_canvas_div) {};\n",
       "\n",
       "mpl.figure.prototype._root_extra_style = function (_canvas_div) {};\n",
       "\n",
       "mpl.figure.prototype._init_canvas = function () {\n",
       "    var fig = this;\n",
       "\n",
       "    var canvas_div = (this.canvas_div = document.createElement('div'));\n",
       "    canvas_div.setAttribute(\n",
       "        'style',\n",
       "        'border: 1px solid #ddd;' +\n",
       "            'box-sizing: content-box;' +\n",
       "            'clear: both;' +\n",
       "            'min-height: 1px;' +\n",
       "            'min-width: 1px;' +\n",
       "            'outline: 0;' +\n",
       "            'overflow: hidden;' +\n",
       "            'position: relative;' +\n",
       "            'resize: both;'\n",
       "    );\n",
       "\n",
       "    function on_keyboard_event_closure(name) {\n",
       "        return function (event) {\n",
       "            return fig.key_event(event, name);\n",
       "        };\n",
       "    }\n",
       "\n",
       "    canvas_div.addEventListener(\n",
       "        'keydown',\n",
       "        on_keyboard_event_closure('key_press')\n",
       "    );\n",
       "    canvas_div.addEventListener(\n",
       "        'keyup',\n",
       "        on_keyboard_event_closure('key_release')\n",
       "    );\n",
       "\n",
       "    this._canvas_extra_style(canvas_div);\n",
       "    this.root.appendChild(canvas_div);\n",
       "\n",
       "    var canvas = (this.canvas = document.createElement('canvas'));\n",
       "    canvas.classList.add('mpl-canvas');\n",
       "    canvas.setAttribute('style', 'box-sizing: content-box;');\n",
       "\n",
       "    this.context = canvas.getContext('2d');\n",
       "\n",
       "    var backingStore =\n",
       "        this.context.backingStorePixelRatio ||\n",
       "        this.context.webkitBackingStorePixelRatio ||\n",
       "        this.context.mozBackingStorePixelRatio ||\n",
       "        this.context.msBackingStorePixelRatio ||\n",
       "        this.context.oBackingStorePixelRatio ||\n",
       "        this.context.backingStorePixelRatio ||\n",
       "        1;\n",
       "\n",
       "    this.ratio = (window.devicePixelRatio || 1) / backingStore;\n",
       "\n",
       "    var rubberband_canvas = (this.rubberband_canvas = document.createElement(\n",
       "        'canvas'\n",
       "    ));\n",
       "    rubberband_canvas.setAttribute(\n",
       "        'style',\n",
       "        'box-sizing: content-box; position: absolute; left: 0; top: 0; z-index: 1;'\n",
       "    );\n",
       "\n",
       "    // Apply a ponyfill if ResizeObserver is not implemented by browser.\n",
       "    if (this.ResizeObserver === undefined) {\n",
       "        if (window.ResizeObserver !== undefined) {\n",
       "            this.ResizeObserver = window.ResizeObserver;\n",
       "        } else {\n",
       "            var obs = _JSXTOOLS_RESIZE_OBSERVER({});\n",
       "            this.ResizeObserver = obs.ResizeObserver;\n",
       "        }\n",
       "    }\n",
       "\n",
       "    this.resizeObserverInstance = new this.ResizeObserver(function (entries) {\n",
       "        var nentries = entries.length;\n",
       "        for (var i = 0; i < nentries; i++) {\n",
       "            var entry = entries[i];\n",
       "            var width, height;\n",
       "            if (entry.contentBoxSize) {\n",
       "                if (entry.contentBoxSize instanceof Array) {\n",
       "                    // Chrome 84 implements new version of spec.\n",
       "                    width = entry.contentBoxSize[0].inlineSize;\n",
       "                    height = entry.contentBoxSize[0].blockSize;\n",
       "                } else {\n",
       "                    // Firefox implements old version of spec.\n",
       "                    width = entry.contentBoxSize.inlineSize;\n",
       "                    height = entry.contentBoxSize.blockSize;\n",
       "                }\n",
       "            } else {\n",
       "                // Chrome <84 implements even older version of spec.\n",
       "                width = entry.contentRect.width;\n",
       "                height = entry.contentRect.height;\n",
       "            }\n",
       "\n",
       "            // Keep the size of the canvas and rubber band canvas in sync with\n",
       "            // the canvas container.\n",
       "            if (entry.devicePixelContentBoxSize) {\n",
       "                // Chrome 84 implements new version of spec.\n",
       "                canvas.setAttribute(\n",
       "                    'width',\n",
       "                    entry.devicePixelContentBoxSize[0].inlineSize\n",
       "                );\n",
       "                canvas.setAttribute(\n",
       "                    'height',\n",
       "                    entry.devicePixelContentBoxSize[0].blockSize\n",
       "                );\n",
       "            } else {\n",
       "                canvas.setAttribute('width', width * fig.ratio);\n",
       "                canvas.setAttribute('height', height * fig.ratio);\n",
       "            }\n",
       "            canvas.setAttribute(\n",
       "                'style',\n",
       "                'width: ' + width + 'px; height: ' + height + 'px;'\n",
       "            );\n",
       "\n",
       "            rubberband_canvas.setAttribute('width', width);\n",
       "            rubberband_canvas.setAttribute('height', height);\n",
       "\n",
       "            // And update the size in Python. We ignore the initial 0/0 size\n",
       "            // that occurs as the element is placed into the DOM, which should\n",
       "            // otherwise not happen due to the minimum size styling.\n",
       "            if (fig.ws.readyState == 1 && width != 0 && height != 0) {\n",
       "                fig.request_resize(width, height);\n",
       "            }\n",
       "        }\n",
       "    });\n",
       "    this.resizeObserverInstance.observe(canvas_div);\n",
       "\n",
       "    function on_mouse_event_closure(name) {\n",
       "        return function (event) {\n",
       "            return fig.mouse_event(event, name);\n",
       "        };\n",
       "    }\n",
       "\n",
       "    rubberband_canvas.addEventListener(\n",
       "        'mousedown',\n",
       "        on_mouse_event_closure('button_press')\n",
       "    );\n",
       "    rubberband_canvas.addEventListener(\n",
       "        'mouseup',\n",
       "        on_mouse_event_closure('button_release')\n",
       "    );\n",
       "    // Throttle sequential mouse events to 1 every 20ms.\n",
       "    rubberband_canvas.addEventListener(\n",
       "        'mousemove',\n",
       "        on_mouse_event_closure('motion_notify')\n",
       "    );\n",
       "\n",
       "    rubberband_canvas.addEventListener(\n",
       "        'mouseenter',\n",
       "        on_mouse_event_closure('figure_enter')\n",
       "    );\n",
       "    rubberband_canvas.addEventListener(\n",
       "        'mouseleave',\n",
       "        on_mouse_event_closure('figure_leave')\n",
       "    );\n",
       "\n",
       "    canvas_div.addEventListener('wheel', function (event) {\n",
       "        if (event.deltaY < 0) {\n",
       "            event.step = 1;\n",
       "        } else {\n",
       "            event.step = -1;\n",
       "        }\n",
       "        on_mouse_event_closure('scroll')(event);\n",
       "    });\n",
       "\n",
       "    canvas_div.appendChild(canvas);\n",
       "    canvas_div.appendChild(rubberband_canvas);\n",
       "\n",
       "    this.rubberband_context = rubberband_canvas.getContext('2d');\n",
       "    this.rubberband_context.strokeStyle = '#000000';\n",
       "\n",
       "    this._resize_canvas = function (width, height, forward) {\n",
       "        if (forward) {\n",
       "            canvas_div.style.width = width + 'px';\n",
       "            canvas_div.style.height = height + 'px';\n",
       "        }\n",
       "    };\n",
       "\n",
       "    // Disable right mouse context menu.\n",
       "    this.rubberband_canvas.addEventListener('contextmenu', function (_e) {\n",
       "        event.preventDefault();\n",
       "        return false;\n",
       "    });\n",
       "\n",
       "    function set_focus() {\n",
       "        canvas.focus();\n",
       "        canvas_div.focus();\n",
       "    }\n",
       "\n",
       "    window.setTimeout(set_focus, 100);\n",
       "};\n",
       "\n",
       "mpl.figure.prototype._init_toolbar = function () {\n",
       "    var fig = this;\n",
       "\n",
       "    var toolbar = document.createElement('div');\n",
       "    toolbar.classList = 'mpl-toolbar';\n",
       "    this.root.appendChild(toolbar);\n",
       "\n",
       "    function on_click_closure(name) {\n",
       "        return function (_event) {\n",
       "            return fig.toolbar_button_onclick(name);\n",
       "        };\n",
       "    }\n",
       "\n",
       "    function on_mouseover_closure(tooltip) {\n",
       "        return function (event) {\n",
       "            if (!event.currentTarget.disabled) {\n",
       "                return fig.toolbar_button_onmouseover(tooltip);\n",
       "            }\n",
       "        };\n",
       "    }\n",
       "\n",
       "    fig.buttons = {};\n",
       "    var buttonGroup = document.createElement('div');\n",
       "    buttonGroup.classList = 'mpl-button-group';\n",
       "    for (var toolbar_ind in mpl.toolbar_items) {\n",
       "        var name = mpl.toolbar_items[toolbar_ind][0];\n",
       "        var tooltip = mpl.toolbar_items[toolbar_ind][1];\n",
       "        var image = mpl.toolbar_items[toolbar_ind][2];\n",
       "        var method_name = mpl.toolbar_items[toolbar_ind][3];\n",
       "\n",
       "        if (!name) {\n",
       "            /* Instead of a spacer, we start a new button group. */\n",
       "            if (buttonGroup.hasChildNodes()) {\n",
       "                toolbar.appendChild(buttonGroup);\n",
       "            }\n",
       "            buttonGroup = document.createElement('div');\n",
       "            buttonGroup.classList = 'mpl-button-group';\n",
       "            continue;\n",
       "        }\n",
       "\n",
       "        var button = (fig.buttons[name] = document.createElement('button'));\n",
       "        button.classList = 'mpl-widget';\n",
       "        button.setAttribute('role', 'button');\n",
       "        button.setAttribute('aria-disabled', 'false');\n",
       "        button.addEventListener('click', on_click_closure(method_name));\n",
       "        button.addEventListener('mouseover', on_mouseover_closure(tooltip));\n",
       "\n",
       "        var icon_img = document.createElement('img');\n",
       "        icon_img.src = '_images/' + image + '.png';\n",
       "        icon_img.srcset = '_images/' + image + '_large.png 2x';\n",
       "        icon_img.alt = tooltip;\n",
       "        button.appendChild(icon_img);\n",
       "\n",
       "        buttonGroup.appendChild(button);\n",
       "    }\n",
       "\n",
       "    if (buttonGroup.hasChildNodes()) {\n",
       "        toolbar.appendChild(buttonGroup);\n",
       "    }\n",
       "\n",
       "    var fmt_picker = document.createElement('select');\n",
       "    fmt_picker.classList = 'mpl-widget';\n",
       "    toolbar.appendChild(fmt_picker);\n",
       "    this.format_dropdown = fmt_picker;\n",
       "\n",
       "    for (var ind in mpl.extensions) {\n",
       "        var fmt = mpl.extensions[ind];\n",
       "        var option = document.createElement('option');\n",
       "        option.selected = fmt === mpl.default_extension;\n",
       "        option.innerHTML = fmt;\n",
       "        fmt_picker.appendChild(option);\n",
       "    }\n",
       "\n",
       "    var status_bar = document.createElement('span');\n",
       "    status_bar.classList = 'mpl-message';\n",
       "    toolbar.appendChild(status_bar);\n",
       "    this.message = status_bar;\n",
       "};\n",
       "\n",
       "mpl.figure.prototype.request_resize = function (x_pixels, y_pixels) {\n",
       "    // Request matplotlib to resize the figure. Matplotlib will then trigger a resize in the client,\n",
       "    // which will in turn request a refresh of the image.\n",
       "    this.send_message('resize', { width: x_pixels, height: y_pixels });\n",
       "};\n",
       "\n",
       "mpl.figure.prototype.send_message = function (type, properties) {\n",
       "    properties['type'] = type;\n",
       "    properties['figure_id'] = this.id;\n",
       "    this.ws.send(JSON.stringify(properties));\n",
       "};\n",
       "\n",
       "mpl.figure.prototype.send_draw_message = function () {\n",
       "    if (!this.waiting) {\n",
       "        this.waiting = true;\n",
       "        this.ws.send(JSON.stringify({ type: 'draw', figure_id: this.id }));\n",
       "    }\n",
       "};\n",
       "\n",
       "mpl.figure.prototype.handle_save = function (fig, _msg) {\n",
       "    var format_dropdown = fig.format_dropdown;\n",
       "    var format = format_dropdown.options[format_dropdown.selectedIndex].value;\n",
       "    fig.ondownload(fig, format);\n",
       "};\n",
       "\n",
       "mpl.figure.prototype.handle_resize = function (fig, msg) {\n",
       "    var size = msg['size'];\n",
       "    if (size[0] !== fig.canvas.width || size[1] !== fig.canvas.height) {\n",
       "        fig._resize_canvas(size[0], size[1], msg['forward']);\n",
       "        fig.send_message('refresh', {});\n",
       "    }\n",
       "};\n",
       "\n",
       "mpl.figure.prototype.handle_rubberband = function (fig, msg) {\n",
       "    var x0 = msg['x0'] / fig.ratio;\n",
       "    var y0 = (fig.canvas.height - msg['y0']) / fig.ratio;\n",
       "    var x1 = msg['x1'] / fig.ratio;\n",
       "    var y1 = (fig.canvas.height - msg['y1']) / fig.ratio;\n",
       "    x0 = Math.floor(x0) + 0.5;\n",
       "    y0 = Math.floor(y0) + 0.5;\n",
       "    x1 = Math.floor(x1) + 0.5;\n",
       "    y1 = Math.floor(y1) + 0.5;\n",
       "    var min_x = Math.min(x0, x1);\n",
       "    var min_y = Math.min(y0, y1);\n",
       "    var width = Math.abs(x1 - x0);\n",
       "    var height = Math.abs(y1 - y0);\n",
       "\n",
       "    fig.rubberband_context.clearRect(\n",
       "        0,\n",
       "        0,\n",
       "        fig.canvas.width / fig.ratio,\n",
       "        fig.canvas.height / fig.ratio\n",
       "    );\n",
       "\n",
       "    fig.rubberband_context.strokeRect(min_x, min_y, width, height);\n",
       "};\n",
       "\n",
       "mpl.figure.prototype.handle_figure_label = function (fig, msg) {\n",
       "    // Updates the figure title.\n",
       "    fig.header.textContent = msg['label'];\n",
       "};\n",
       "\n",
       "mpl.figure.prototype.handle_cursor = function (fig, msg) {\n",
       "    var cursor = msg['cursor'];\n",
       "    switch (cursor) {\n",
       "        case 0:\n",
       "            cursor = 'pointer';\n",
       "            break;\n",
       "        case 1:\n",
       "            cursor = 'default';\n",
       "            break;\n",
       "        case 2:\n",
       "            cursor = 'crosshair';\n",
       "            break;\n",
       "        case 3:\n",
       "            cursor = 'move';\n",
       "            break;\n",
       "    }\n",
       "    fig.rubberband_canvas.style.cursor = cursor;\n",
       "};\n",
       "\n",
       "mpl.figure.prototype.handle_message = function (fig, msg) {\n",
       "    fig.message.textContent = msg['message'];\n",
       "};\n",
       "\n",
       "mpl.figure.prototype.handle_draw = function (fig, _msg) {\n",
       "    // Request the server to send over a new figure.\n",
       "    fig.send_draw_message();\n",
       "};\n",
       "\n",
       "mpl.figure.prototype.handle_image_mode = function (fig, msg) {\n",
       "    fig.image_mode = msg['mode'];\n",
       "};\n",
       "\n",
       "mpl.figure.prototype.handle_history_buttons = function (fig, msg) {\n",
       "    for (var key in msg) {\n",
       "        if (!(key in fig.buttons)) {\n",
       "            continue;\n",
       "        }\n",
       "        fig.buttons[key].disabled = !msg[key];\n",
       "        fig.buttons[key].setAttribute('aria-disabled', !msg[key]);\n",
       "    }\n",
       "};\n",
       "\n",
       "mpl.figure.prototype.handle_navigate_mode = function (fig, msg) {\n",
       "    if (msg['mode'] === 'PAN') {\n",
       "        fig.buttons['Pan'].classList.add('active');\n",
       "        fig.buttons['Zoom'].classList.remove('active');\n",
       "    } else if (msg['mode'] === 'ZOOM') {\n",
       "        fig.buttons['Pan'].classList.remove('active');\n",
       "        fig.buttons['Zoom'].classList.add('active');\n",
       "    } else {\n",
       "        fig.buttons['Pan'].classList.remove('active');\n",
       "        fig.buttons['Zoom'].classList.remove('active');\n",
       "    }\n",
       "};\n",
       "\n",
       "mpl.figure.prototype.updated_canvas_event = function () {\n",
       "    // Called whenever the canvas gets updated.\n",
       "    this.send_message('ack', {});\n",
       "};\n",
       "\n",
       "// A function to construct a web socket function for onmessage handling.\n",
       "// Called in the figure constructor.\n",
       "mpl.figure.prototype._make_on_message_function = function (fig) {\n",
       "    return function socket_on_message(evt) {\n",
       "        if (evt.data instanceof Blob) {\n",
       "            /* FIXME: We get \"Resource interpreted as Image but\n",
       "             * transferred with MIME type text/plain:\" errors on\n",
       "             * Chrome.  But how to set the MIME type?  It doesn't seem\n",
       "             * to be part of the websocket stream */\n",
       "            evt.data.type = 'image/png';\n",
       "\n",
       "            /* Free the memory for the previous frames */\n",
       "            if (fig.imageObj.src) {\n",
       "                (window.URL || window.webkitURL).revokeObjectURL(\n",
       "                    fig.imageObj.src\n",
       "                );\n",
       "            }\n",
       "\n",
       "            fig.imageObj.src = (window.URL || window.webkitURL).createObjectURL(\n",
       "                evt.data\n",
       "            );\n",
       "            fig.updated_canvas_event();\n",
       "            fig.waiting = false;\n",
       "            return;\n",
       "        } else if (\n",
       "            typeof evt.data === 'string' &&\n",
       "            evt.data.slice(0, 21) === 'data:image/png;base64'\n",
       "        ) {\n",
       "            fig.imageObj.src = evt.data;\n",
       "            fig.updated_canvas_event();\n",
       "            fig.waiting = false;\n",
       "            return;\n",
       "        }\n",
       "\n",
       "        var msg = JSON.parse(evt.data);\n",
       "        var msg_type = msg['type'];\n",
       "\n",
       "        // Call the  \"handle_{type}\" callback, which takes\n",
       "        // the figure and JSON message as its only arguments.\n",
       "        try {\n",
       "            var callback = fig['handle_' + msg_type];\n",
       "        } catch (e) {\n",
       "            console.log(\n",
       "                \"No handler for the '\" + msg_type + \"' message type: \",\n",
       "                msg\n",
       "            );\n",
       "            return;\n",
       "        }\n",
       "\n",
       "        if (callback) {\n",
       "            try {\n",
       "                // console.log(\"Handling '\" + msg_type + \"' message: \", msg);\n",
       "                callback(fig, msg);\n",
       "            } catch (e) {\n",
       "                console.log(\n",
       "                    \"Exception inside the 'handler_\" + msg_type + \"' callback:\",\n",
       "                    e,\n",
       "                    e.stack,\n",
       "                    msg\n",
       "                );\n",
       "            }\n",
       "        }\n",
       "    };\n",
       "};\n",
       "\n",
       "// from http://stackoverflow.com/questions/1114465/getting-mouse-location-in-canvas\n",
       "mpl.findpos = function (e) {\n",
       "    //this section is from http://www.quirksmode.org/js/events_properties.html\n",
       "    var targ;\n",
       "    if (!e) {\n",
       "        e = window.event;\n",
       "    }\n",
       "    if (e.target) {\n",
       "        targ = e.target;\n",
       "    } else if (e.srcElement) {\n",
       "        targ = e.srcElement;\n",
       "    }\n",
       "    if (targ.nodeType === 3) {\n",
       "        // defeat Safari bug\n",
       "        targ = targ.parentNode;\n",
       "    }\n",
       "\n",
       "    // pageX,Y are the mouse positions relative to the document\n",
       "    var boundingRect = targ.getBoundingClientRect();\n",
       "    var x = e.pageX - (boundingRect.left + document.body.scrollLeft);\n",
       "    var y = e.pageY - (boundingRect.top + document.body.scrollTop);\n",
       "\n",
       "    return { x: x, y: y };\n",
       "};\n",
       "\n",
       "/*\n",
       " * return a copy of an object with only non-object keys\n",
       " * we need this to avoid circular references\n",
       " * http://stackoverflow.com/a/24161582/3208463\n",
       " */\n",
       "function simpleKeys(original) {\n",
       "    return Object.keys(original).reduce(function (obj, key) {\n",
       "        if (typeof original[key] !== 'object') {\n",
       "            obj[key] = original[key];\n",
       "        }\n",
       "        return obj;\n",
       "    }, {});\n",
       "}\n",
       "\n",
       "mpl.figure.prototype.mouse_event = function (event, name) {\n",
       "    var canvas_pos = mpl.findpos(event);\n",
       "\n",
       "    if (name === 'button_press') {\n",
       "        this.canvas.focus();\n",
       "        this.canvas_div.focus();\n",
       "    }\n",
       "\n",
       "    var x = canvas_pos.x * this.ratio;\n",
       "    var y = canvas_pos.y * this.ratio;\n",
       "\n",
       "    this.send_message(name, {\n",
       "        x: x,\n",
       "        y: y,\n",
       "        button: event.button,\n",
       "        step: event.step,\n",
       "        guiEvent: simpleKeys(event),\n",
       "    });\n",
       "\n",
       "    /* This prevents the web browser from automatically changing to\n",
       "     * the text insertion cursor when the button is pressed.  We want\n",
       "     * to control all of the cursor setting manually through the\n",
       "     * 'cursor' event from matplotlib */\n",
       "    event.preventDefault();\n",
       "    return false;\n",
       "};\n",
       "\n",
       "mpl.figure.prototype._key_event_extra = function (_event, _name) {\n",
       "    // Handle any extra behaviour associated with a key event\n",
       "};\n",
       "\n",
       "mpl.figure.prototype.key_event = function (event, name) {\n",
       "    // Prevent repeat events\n",
       "    if (name === 'key_press') {\n",
       "        if (event.which === this._key) {\n",
       "            return;\n",
       "        } else {\n",
       "            this._key = event.which;\n",
       "        }\n",
       "    }\n",
       "    if (name === 'key_release') {\n",
       "        this._key = null;\n",
       "    }\n",
       "\n",
       "    var value = '';\n",
       "    if (event.ctrlKey && event.which !== 17) {\n",
       "        value += 'ctrl+';\n",
       "    }\n",
       "    if (event.altKey && event.which !== 18) {\n",
       "        value += 'alt+';\n",
       "    }\n",
       "    if (event.shiftKey && event.which !== 16) {\n",
       "        value += 'shift+';\n",
       "    }\n",
       "\n",
       "    value += 'k';\n",
       "    value += event.which.toString();\n",
       "\n",
       "    this._key_event_extra(event, name);\n",
       "\n",
       "    this.send_message(name, { key: value, guiEvent: simpleKeys(event) });\n",
       "    return false;\n",
       "};\n",
       "\n",
       "mpl.figure.prototype.toolbar_button_onclick = function (name) {\n",
       "    if (name === 'download') {\n",
       "        this.handle_save(this, null);\n",
       "    } else {\n",
       "        this.send_message('toolbar_button', { name: name });\n",
       "    }\n",
       "};\n",
       "\n",
       "mpl.figure.prototype.toolbar_button_onmouseover = function (tooltip) {\n",
       "    this.message.textContent = tooltip;\n",
       "};\n",
       "\n",
       "///////////////// REMAINING CONTENT GENERATED BY embed_js.py /////////////////\n",
       "// prettier-ignore\n",
       "var _JSXTOOLS_RESIZE_OBSERVER=function(A){var t,i=new WeakMap,n=new WeakMap,a=new WeakMap,r=new WeakMap,o=new Set;function s(e){if(!(this instanceof s))throw new TypeError(\"Constructor requires 'new' operator\");i.set(this,e)}function h(){throw new TypeError(\"Function is not a constructor\")}function c(e,t,i,n){e=0 in arguments?Number(arguments[0]):0,t=1 in arguments?Number(arguments[1]):0,i=2 in arguments?Number(arguments[2]):0,n=3 in arguments?Number(arguments[3]):0,this.right=(this.x=this.left=e)+(this.width=i),this.bottom=(this.y=this.top=t)+(this.height=n),Object.freeze(this)}function d(){t=requestAnimationFrame(d);var s=new WeakMap,p=new Set;o.forEach((function(t){r.get(t).forEach((function(i){var r=t instanceof window.SVGElement,o=a.get(t),d=r?0:parseFloat(o.paddingTop),f=r?0:parseFloat(o.paddingRight),l=r?0:parseFloat(o.paddingBottom),u=r?0:parseFloat(o.paddingLeft),g=r?0:parseFloat(o.borderTopWidth),m=r?0:parseFloat(o.borderRightWidth),w=r?0:parseFloat(o.borderBottomWidth),b=u+f,F=d+l,v=(r?0:parseFloat(o.borderLeftWidth))+m,W=g+w,y=r?0:t.offsetHeight-W-t.clientHeight,E=r?0:t.offsetWidth-v-t.clientWidth,R=b+v,z=F+W,M=r?t.width:parseFloat(o.width)-R-E,O=r?t.height:parseFloat(o.height)-z-y;if(n.has(t)){var k=n.get(t);if(k[0]===M&&k[1]===O)return}n.set(t,[M,O]);var S=Object.create(h.prototype);S.target=t,S.contentRect=new c(u,d,M,O),s.has(i)||(s.set(i,[]),p.add(i)),s.get(i).push(S)}))})),p.forEach((function(e){i.get(e).call(e,s.get(e),e)}))}return s.prototype.observe=function(i){if(i instanceof window.Element){r.has(i)||(r.set(i,new Set),o.add(i),a.set(i,window.getComputedStyle(i)));var n=r.get(i);n.has(this)||n.add(this),cancelAnimationFrame(t),t=requestAnimationFrame(d)}},s.prototype.unobserve=function(i){if(i instanceof window.Element&&r.has(i)){var n=r.get(i);n.has(this)&&(n.delete(this),n.size||(r.delete(i),o.delete(i))),n.size||r.delete(i),o.size||cancelAnimationFrame(t)}},A.DOMRectReadOnly=c,A.ResizeObserver=s,A.ResizeObserverEntry=h,A}; // eslint-disable-line\n",
       "mpl.toolbar_items = [[\"Home\", \"Reset original view\", \"fa fa-home icon-home\", \"home\"], [\"Back\", \"Back to previous view\", \"fa fa-arrow-left icon-arrow-left\", \"back\"], [\"Forward\", \"Forward to next view\", \"fa fa-arrow-right icon-arrow-right\", \"forward\"], [\"\", \"\", \"\", \"\"], [\"Pan\", \"Left button pans, Right button zooms\\nx/y fixes axis, CTRL fixes aspect\", \"fa fa-arrows icon-move\", \"pan\"], [\"Zoom\", \"Zoom to rectangle\\nx/y fixes axis, CTRL fixes aspect\", \"fa fa-square-o icon-check-empty\", \"zoom\"], [\"\", \"\", \"\", \"\"], [\"Download\", \"Download plot\", \"fa fa-floppy-o icon-save\", \"download\"]];\n",
       "\n",
       "mpl.extensions = [\"eps\", \"jpeg\", \"pdf\", \"png\", \"ps\", \"raw\", \"svg\", \"tif\"];\n",
       "\n",
       "mpl.default_extension = \"png\";/* global mpl */\n",
       "\n",
       "var comm_websocket_adapter = function (comm) {\n",
       "    // Create a \"websocket\"-like object which calls the given IPython comm\n",
       "    // object with the appropriate methods. Currently this is a non binary\n",
       "    // socket, so there is still some room for performance tuning.\n",
       "    var ws = {};\n",
       "\n",
       "    ws.close = function () {\n",
       "        comm.close();\n",
       "    };\n",
       "    ws.send = function (m) {\n",
       "        //console.log('sending', m);\n",
       "        comm.send(m);\n",
       "    };\n",
       "    // Register the callback with on_msg.\n",
       "    comm.on_msg(function (msg) {\n",
       "        //console.log('receiving', msg['content']['data'], msg);\n",
       "        // Pass the mpl event to the overridden (by mpl) onmessage function.\n",
       "        ws.onmessage(msg['content']['data']);\n",
       "    });\n",
       "    return ws;\n",
       "};\n",
       "\n",
       "mpl.mpl_figure_comm = function (comm, msg) {\n",
       "    // This is the function which gets called when the mpl process\n",
       "    // starts-up an IPython Comm through the \"matplotlib\" channel.\n",
       "\n",
       "    var id = msg.content.data.id;\n",
       "    // Get hold of the div created by the display call when the Comm\n",
       "    // socket was opened in Python.\n",
       "    var element = document.getElementById(id);\n",
       "    var ws_proxy = comm_websocket_adapter(comm);\n",
       "\n",
       "    function ondownload(figure, _format) {\n",
       "        window.open(figure.canvas.toDataURL());\n",
       "    }\n",
       "\n",
       "    var fig = new mpl.figure(id, ws_proxy, ondownload, element);\n",
       "\n",
       "    // Call onopen now - mpl needs it, as it is assuming we've passed it a real\n",
       "    // web socket which is closed, not our websocket->open comm proxy.\n",
       "    ws_proxy.onopen();\n",
       "\n",
       "    fig.parent_element = element;\n",
       "    fig.cell_info = mpl.find_output_cell(\"<div id='\" + id + \"'></div>\");\n",
       "    if (!fig.cell_info) {\n",
       "        console.error('Failed to find cell for figure', id, fig);\n",
       "        return;\n",
       "    }\n",
       "    fig.cell_info[0].output_area.element.on(\n",
       "        'cleared',\n",
       "        { fig: fig },\n",
       "        fig._remove_fig_handler\n",
       "    );\n",
       "};\n",
       "\n",
       "mpl.figure.prototype.handle_close = function (fig, msg) {\n",
       "    var width = fig.canvas.width / fig.ratio;\n",
       "    fig.cell_info[0].output_area.element.off(\n",
       "        'cleared',\n",
       "        fig._remove_fig_handler\n",
       "    );\n",
       "    fig.resizeObserverInstance.unobserve(fig.canvas_div);\n",
       "\n",
       "    // Update the output cell to use the data from the current canvas.\n",
       "    fig.push_to_output();\n",
       "    var dataURL = fig.canvas.toDataURL();\n",
       "    // Re-enable the keyboard manager in IPython - without this line, in FF,\n",
       "    // the notebook keyboard shortcuts fail.\n",
       "    IPython.keyboard_manager.enable();\n",
       "    fig.parent_element.innerHTML =\n",
       "        '<img src=\"' + dataURL + '\" width=\"' + width + '\">';\n",
       "    fig.close_ws(fig, msg);\n",
       "};\n",
       "\n",
       "mpl.figure.prototype.close_ws = function (fig, msg) {\n",
       "    fig.send_message('closing', msg);\n",
       "    // fig.ws.close()\n",
       "};\n",
       "\n",
       "mpl.figure.prototype.push_to_output = function (_remove_interactive) {\n",
       "    // Turn the data on the canvas into data in the output cell.\n",
       "    var width = this.canvas.width / this.ratio;\n",
       "    var dataURL = this.canvas.toDataURL();\n",
       "    this.cell_info[1]['text/html'] =\n",
       "        '<img src=\"' + dataURL + '\" width=\"' + width + '\">';\n",
       "};\n",
       "\n",
       "mpl.figure.prototype.updated_canvas_event = function () {\n",
       "    // Tell IPython that the notebook contents must change.\n",
       "    IPython.notebook.set_dirty(true);\n",
       "    this.send_message('ack', {});\n",
       "    var fig = this;\n",
       "    // Wait a second, then push the new image to the DOM so\n",
       "    // that it is saved nicely (might be nice to debounce this).\n",
       "    setTimeout(function () {\n",
       "        fig.push_to_output();\n",
       "    }, 1000);\n",
       "};\n",
       "\n",
       "mpl.figure.prototype._init_toolbar = function () {\n",
       "    var fig = this;\n",
       "\n",
       "    var toolbar = document.createElement('div');\n",
       "    toolbar.classList = 'btn-toolbar';\n",
       "    this.root.appendChild(toolbar);\n",
       "\n",
       "    function on_click_closure(name) {\n",
       "        return function (_event) {\n",
       "            return fig.toolbar_button_onclick(name);\n",
       "        };\n",
       "    }\n",
       "\n",
       "    function on_mouseover_closure(tooltip) {\n",
       "        return function (event) {\n",
       "            if (!event.currentTarget.disabled) {\n",
       "                return fig.toolbar_button_onmouseover(tooltip);\n",
       "            }\n",
       "        };\n",
       "    }\n",
       "\n",
       "    fig.buttons = {};\n",
       "    var buttonGroup = document.createElement('div');\n",
       "    buttonGroup.classList = 'btn-group';\n",
       "    var button;\n",
       "    for (var toolbar_ind in mpl.toolbar_items) {\n",
       "        var name = mpl.toolbar_items[toolbar_ind][0];\n",
       "        var tooltip = mpl.toolbar_items[toolbar_ind][1];\n",
       "        var image = mpl.toolbar_items[toolbar_ind][2];\n",
       "        var method_name = mpl.toolbar_items[toolbar_ind][3];\n",
       "\n",
       "        if (!name) {\n",
       "            /* Instead of a spacer, we start a new button group. */\n",
       "            if (buttonGroup.hasChildNodes()) {\n",
       "                toolbar.appendChild(buttonGroup);\n",
       "            }\n",
       "            buttonGroup = document.createElement('div');\n",
       "            buttonGroup.classList = 'btn-group';\n",
       "            continue;\n",
       "        }\n",
       "\n",
       "        button = fig.buttons[name] = document.createElement('button');\n",
       "        button.classList = 'btn btn-default';\n",
       "        button.href = '#';\n",
       "        button.title = name;\n",
       "        button.innerHTML = '<i class=\"fa ' + image + ' fa-lg\"></i>';\n",
       "        button.addEventListener('click', on_click_closure(method_name));\n",
       "        button.addEventListener('mouseover', on_mouseover_closure(tooltip));\n",
       "        buttonGroup.appendChild(button);\n",
       "    }\n",
       "\n",
       "    if (buttonGroup.hasChildNodes()) {\n",
       "        toolbar.appendChild(buttonGroup);\n",
       "    }\n",
       "\n",
       "    // Add the status bar.\n",
       "    var status_bar = document.createElement('span');\n",
       "    status_bar.classList = 'mpl-message pull-right';\n",
       "    toolbar.appendChild(status_bar);\n",
       "    this.message = status_bar;\n",
       "\n",
       "    // Add the close button to the window.\n",
       "    var buttongrp = document.createElement('div');\n",
       "    buttongrp.classList = 'btn-group inline pull-right';\n",
       "    button = document.createElement('button');\n",
       "    button.classList = 'btn btn-mini btn-primary';\n",
       "    button.href = '#';\n",
       "    button.title = 'Stop Interaction';\n",
       "    button.innerHTML = '<i class=\"fa fa-power-off icon-remove icon-large\"></i>';\n",
       "    button.addEventListener('click', function (_evt) {\n",
       "        fig.handle_close(fig, {});\n",
       "    });\n",
       "    button.addEventListener(\n",
       "        'mouseover',\n",
       "        on_mouseover_closure('Stop Interaction')\n",
       "    );\n",
       "    buttongrp.appendChild(button);\n",
       "    var titlebar = this.root.querySelector('.ui-dialog-titlebar');\n",
       "    titlebar.insertBefore(buttongrp, titlebar.firstChild);\n",
       "};\n",
       "\n",
       "mpl.figure.prototype._remove_fig_handler = function (event) {\n",
       "    var fig = event.data.fig;\n",
       "    if (event.target !== this) {\n",
       "        // Ignore bubbled events from children.\n",
       "        return;\n",
       "    }\n",
       "    fig.close_ws(fig, {});\n",
       "};\n",
       "\n",
       "mpl.figure.prototype._root_extra_style = function (el) {\n",
       "    el.style.boxSizing = 'content-box'; // override notebook setting of border-box.\n",
       "};\n",
       "\n",
       "mpl.figure.prototype._canvas_extra_style = function (el) {\n",
       "    // this is important to make the div 'focusable\n",
       "    el.setAttribute('tabindex', 0);\n",
       "    // reach out to IPython and tell the keyboard manager to turn it's self\n",
       "    // off when our div gets focus\n",
       "\n",
       "    // location in version 3\n",
       "    if (IPython.notebook.keyboard_manager) {\n",
       "        IPython.notebook.keyboard_manager.register_events(el);\n",
       "    } else {\n",
       "        // location in version 2\n",
       "        IPython.keyboard_manager.register_events(el);\n",
       "    }\n",
       "};\n",
       "\n",
       "mpl.figure.prototype._key_event_extra = function (event, _name) {\n",
       "    var manager = IPython.notebook.keyboard_manager;\n",
       "    if (!manager) {\n",
       "        manager = IPython.keyboard_manager;\n",
       "    }\n",
       "\n",
       "    // Check for shift+enter\n",
       "    if (event.shiftKey && event.which === 13) {\n",
       "        this.canvas_div.blur();\n",
       "        // select the cell after this one\n",
       "        var index = IPython.notebook.find_cell_index(this.cell_info[0]);\n",
       "        IPython.notebook.select(index + 1);\n",
       "    }\n",
       "};\n",
       "\n",
       "mpl.figure.prototype.handle_save = function (fig, _msg) {\n",
       "    fig.ondownload(fig, null);\n",
       "};\n",
       "\n",
       "mpl.find_output_cell = function (html_output) {\n",
       "    // Return the cell and output element which can be found *uniquely* in the notebook.\n",
       "    // Note - this is a bit hacky, but it is done because the \"notebook_saving.Notebook\"\n",
       "    // IPython event is triggered only after the cells have been serialised, which for\n",
       "    // our purposes (turning an active figure into a static one), is too late.\n",
       "    var cells = IPython.notebook.get_cells();\n",
       "    var ncells = cells.length;\n",
       "    for (var i = 0; i < ncells; i++) {\n",
       "        var cell = cells[i];\n",
       "        if (cell.cell_type === 'code') {\n",
       "            for (var j = 0; j < cell.output_area.outputs.length; j++) {\n",
       "                var data = cell.output_area.outputs[j];\n",
       "                if (data.data) {\n",
       "                    // IPython >= 3 moved mimebundle to data attribute of output\n",
       "                    data = data.data;\n",
       "                }\n",
       "                if (data['text/html'] === html_output) {\n",
       "                    return [cell, data, j];\n",
       "                }\n",
       "            }\n",
       "        }\n",
       "    }\n",
       "};\n",
       "\n",
       "// Register the function which deals with the matplotlib target/channel.\n",
       "// The kernel may be null if the page has been refreshed.\n",
       "if (IPython.notebook.kernel !== null) {\n",
       "    IPython.notebook.kernel.comm_manager.register_target(\n",
       "        'matplotlib',\n",
       "        mpl.mpl_figure_comm\n",
       "    );\n",
       "}\n"
      ],
      "text/plain": [
       "<IPython.core.display.Javascript object>"
      ]
     },
     "metadata": {},
     "output_type": "display_data"
    },
    {
     "data": {
      "text/html": [
       "<img src=\"data:image/png;base64,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\" width=\"1000\">"
      ],
      "text/plain": [
       "<IPython.core.display.HTML object>"
      ]
     },
     "metadata": {},
     "output_type": "display_data"
    },
    {
     "name": "stdout",
     "output_type": "stream",
     "text": [
      "\r",
      "mPIE:   0%|                                                                                    | 0/100 [00:00<?, ?it/s]"
     ]
    },
    {
     "name": "stderr",
     "output_type": "stream",
     "text": [
      "\n",
      "  0%|                                                                                          | 0/100 [00:00<?, ?it/s]\u001b[A\n",
      "  1%|▊                                                                                 | 1/100 [00:00<00:20,  4.81it/s]\u001b[A\n",
      "100%|███████████████████████████████████████████████████████████████████████████████| 100/100 [00:00<00:00, 250.01it/s]\u001b[A\n"
     ]
    },
    {
     "name": "stdout",
     "output_type": "stream",
     "text": [
      "\r",
      "mPIE:   1%|▊                                                                           | 1/100 [00:00<00:57,  1.71it/s]"
     ]
    },
    {
     "name": "stderr",
     "output_type": "stream",
     "text": [
      "\n",
      "  0%|                                                                                          | 0/100 [00:00<?, ?it/s]\u001b[A\n",
      "100%|███████████████████████████████████████████████████████████████████████████████| 100/100 [00:00<00:00, 516.63it/s]\u001b[A\n"
     ]
    },
    {
     "name": "stdout",
     "output_type": "stream",
     "text": [
      "\r",
      "mPIE:   2%|█▌                                                                          | 2/100 [00:01<00:47,  2.05it/s]"
     ]
    },
    {
     "name": "stderr",
     "output_type": "stream",
     "text": [
      "\n",
      "  0%|                                                                                          | 0/100 [00:00<?, ?it/s]\u001b[A\n",
      "100%|███████████████████████████████████████████████████████████████████████████████| 100/100 [00:00<00:00, 589.98it/s]\u001b[A\n"
     ]
    },
    {
     "name": "stdout",
     "output_type": "stream",
     "text": [
      "\r",
      "mPIE:   3%|██▎                                                                         | 3/100 [00:01<00:40,  2.39it/s]"
     ]
    },
    {
     "name": "stderr",
     "output_type": "stream",
     "text": [
      "\n",
      "  0%|                                                                                          | 0/100 [00:00<?, ?it/s]\u001b[A\n",
      "100%|███████████████████████████████████████████████████████████████████████████████| 100/100 [00:00<00:00, 574.41it/s]\u001b[A\n"
     ]
    },
    {
     "name": "stdout",
     "output_type": "stream",
     "text": [
      "\r",
      "mPIE:   4%|███                                                                         | 4/100 [00:01<00:37,  2.57it/s]"
     ]
    },
    {
     "name": "stderr",
     "output_type": "stream",
     "text": [
      "\n",
      "  0%|                                                                                          | 0/100 [00:00<?, ?it/s]\u001b[A\n",
      "100%|███████████████████████████████████████████████████████████████████████████████| 100/100 [00:00<00:00, 594.98it/s]\u001b[A\n"
     ]
    },
    {
     "name": "stdout",
     "output_type": "stream",
     "text": [
      "\r",
      "mPIE:   5%|███▊                                                                        | 5/100 [00:01<00:34,  2.76it/s]"
     ]
    },
    {
     "name": "stderr",
     "output_type": "stream",
     "text": [
      "\n",
      "  0%|                                                                                          | 0/100 [00:00<?, ?it/s]\u001b[A\n",
      "100%|███████████████████████████████████████████████████████████████████████████████| 100/100 [00:00<00:00, 615.19it/s]\u001b[A\n"
     ]
    },
    {
     "name": "stdout",
     "output_type": "stream",
     "text": [
      "\r",
      "mPIE:   6%|████▌                                                                       | 6/100 [00:02<00:32,  2.86it/s]"
     ]
    },
    {
     "name": "stderr",
     "output_type": "stream",
     "text": [
      "\n",
      "  0%|                                                                                          | 0/100 [00:00<?, ?it/s]\u001b[A\n",
      "100%|███████████████████████████████████████████████████████████████████████████████| 100/100 [00:00<00:00, 592.41it/s]\u001b[A\n"
     ]
    },
    {
     "name": "stdout",
     "output_type": "stream",
     "text": [
      "\r",
      "mPIE:   7%|█████▎                                                                      | 7/100 [00:02<00:32,  2.90it/s]"
     ]
    },
    {
     "name": "stderr",
     "output_type": "stream",
     "text": [
      "\n",
      "  0%|                                                                                          | 0/100 [00:00<?, ?it/s]\u001b[A\n",
      "100%|███████████████████████████████████████████████████████████████████████████████| 100/100 [00:00<00:00, 596.78it/s]\u001b[A\n"
     ]
    },
    {
     "name": "stdout",
     "output_type": "stream",
     "text": [
      "\r",
      "mPIE:   8%|██████                                                                      | 8/100 [00:02<00:30,  3.00it/s]"
     ]
    },
    {
     "name": "stderr",
     "output_type": "stream",
     "text": [
      "\n",
      "  0%|                                                                                          | 0/100 [00:00<?, ?it/s]\u001b[A\n",
      "100%|███████████████████████████████████████████████████████████████████████████████| 100/100 [00:00<00:00, 574.52it/s]\u001b[A\n"
     ]
    },
    {
     "name": "stdout",
     "output_type": "stream",
     "text": [
      "\r",
      "mPIE:   9%|██████▊                                                                     | 9/100 [00:03<00:29,  3.07it/s]"
     ]
    },
    {
     "name": "stderr",
     "output_type": "stream",
     "text": [
      "\n",
      "  0%|                                                                                          | 0/100 [00:00<?, ?it/s]\u001b[A\n",
      "100%|███████████████████████████████████████████████████████████████████████████████| 100/100 [00:00<00:00, 556.28it/s]\u001b[A\n"
     ]
    },
    {
     "name": "stdout",
     "output_type": "stream",
     "text": [
      "\r",
      "mPIE:  10%|███████▌                                                                   | 10/100 [00:03<00:29,  3.10it/s]"
     ]
    },
    {
     "name": "stderr",
     "output_type": "stream",
     "text": [
      "\n",
      "  0%|                                                                                          | 0/100 [00:00<?, ?it/s]\u001b[A\n",
      "100%|███████████████████████████████████████████████████████████████████████████████| 100/100 [00:00<00:00, 579.39it/s]\u001b[A\n"
     ]
    },
    {
     "name": "stdout",
     "output_type": "stream",
     "text": [
      "\r",
      "mPIE:  11%|████████▎                                                                  | 11/100 [00:03<00:27,  3.19it/s]"
     ]
    },
    {
     "name": "stderr",
     "output_type": "stream",
     "text": [
      "\n",
      "  0%|                                                                                          | 0/100 [00:00<?, ?it/s]\u001b[A\n",
      "100%|███████████████████████████████████████████████████████████████████████████████| 100/100 [00:00<00:00, 544.20it/s]\u001b[A\n"
     ]
    },
    {
     "name": "stdout",
     "output_type": "stream",
     "text": [
      "\r",
      "mPIE:  12%|█████████                                                                  | 12/100 [00:04<00:27,  3.17it/s]"
     ]
    },
    {
     "name": "stderr",
     "output_type": "stream",
     "text": [
      "\n",
      "  0%|                                                                                          | 0/100 [00:00<?, ?it/s]\u001b[A\n",
      "100%|███████████████████████████████████████████████████████████████████████████████| 100/100 [00:00<00:00, 569.31it/s]\u001b[A\n"
     ]
    },
    {
     "name": "stdout",
     "output_type": "stream",
     "text": [
      "\r",
      "mPIE:  13%|█████████▊                                                                 | 13/100 [00:04<00:26,  3.23it/s]"
     ]
    },
    {
     "name": "stderr",
     "output_type": "stream",
     "text": [
      "\n",
      "  0%|                                                                                          | 0/100 [00:00<?, ?it/s]\u001b[A\n",
      "100%|███████████████████████████████████████████████████████████████████████████████| 100/100 [00:00<00:00, 521.90it/s]\u001b[A\n"
     ]
    },
    {
     "name": "stdout",
     "output_type": "stream",
     "text": [
      "\r",
      "mPIE:  14%|██████████▌                                                                | 14/100 [00:04<00:26,  3.20it/s]"
     ]
    },
    {
     "name": "stderr",
     "output_type": "stream",
     "text": [
      "\n",
      "  0%|                                                                                          | 0/100 [00:00<?, ?it/s]\u001b[A\n",
      "100%|███████████████████████████████████████████████████████████████████████████████| 100/100 [00:00<00:00, 537.25it/s]\u001b[A\n"
     ]
    },
    {
     "name": "stdout",
     "output_type": "stream",
     "text": [
      "\r",
      "mPIE:  15%|███████████▎                                                               | 15/100 [00:05<00:27,  3.11it/s]"
     ]
    },
    {
     "name": "stderr",
     "output_type": "stream",
     "text": [
      "\n",
      "  0%|                                                                                          | 0/100 [00:00<?, ?it/s]\u001b[A\n",
      "100%|███████████████████████████████████████████████████████████████████████████████| 100/100 [00:00<00:00, 568.63it/s]\u001b[A\n"
     ]
    },
    {
     "name": "stdout",
     "output_type": "stream",
     "text": [
      "\r",
      "mPIE:  16%|████████████                                                               | 16/100 [00:05<00:26,  3.14it/s]"
     ]
    },
    {
     "name": "stderr",
     "output_type": "stream",
     "text": [
      "\n",
      "  0%|                                                                                          | 0/100 [00:00<?, ?it/s]\u001b[A\n",
      "100%|███████████████████████████████████████████████████████████████████████████████| 100/100 [00:00<00:00, 612.80it/s]\u001b[A\n"
     ]
    },
    {
     "name": "stdout",
     "output_type": "stream",
     "text": [
      "\r",
      "mPIE:  17%|████████████▊                                                              | 17/100 [00:05<00:26,  3.16it/s]"
     ]
    },
    {
     "name": "stderr",
     "output_type": "stream",
     "text": [
      "\n",
      "  0%|                                                                                          | 0/100 [00:00<?, ?it/s]\u001b[A\n",
      "100%|███████████████████████████████████████████████████████████████████████████████| 100/100 [00:00<00:00, 578.16it/s]\u001b[A\n"
     ]
    },
    {
     "name": "stdout",
     "output_type": "stream",
     "text": [
      "\r",
      "mPIE:  18%|█████████████▌                                                             | 18/100 [00:06<00:25,  3.16it/s]"
     ]
    },
    {
     "name": "stderr",
     "output_type": "stream",
     "text": [
      "\n",
      "  0%|                                                                                          | 0/100 [00:00<?, ?it/s]\u001b[A\n",
      "100%|███████████████████████████████████████████████████████████████████████████████| 100/100 [00:00<00:00, 514.73it/s]\u001b[A\n"
     ]
    },
    {
     "name": "stdout",
     "output_type": "stream",
     "text": [
      "\r",
      "mPIE:  19%|██████████████▎                                                            | 19/100 [00:06<00:26,  3.11it/s]"
     ]
    },
    {
     "name": "stderr",
     "output_type": "stream",
     "text": [
      "\n",
      "  0%|                                                                                          | 0/100 [00:00<?, ?it/s]\u001b[A\n",
      "100%|███████████████████████████████████████████████████████████████████████████████| 100/100 [00:00<00:00, 490.06it/s]\u001b[A\n"
     ]
    },
    {
     "name": "stdout",
     "output_type": "stream",
     "text": [
      "\r",
      "mPIE:  20%|███████████████                                                            | 20/100 [00:06<00:26,  3.07it/s]"
     ]
    },
    {
     "name": "stderr",
     "output_type": "stream",
     "text": [
      "\n",
      "  0%|                                                                                          | 0/100 [00:00<?, ?it/s]\u001b[A\n",
      " 44%|███████████████████████████████████▏                                            | 44/100 [00:00<00:00, 435.18it/s]\u001b[A\n",
      "100%|███████████████████████████████████████████████████████████████████████████████| 100/100 [00:00<00:00, 479.55it/s]\u001b[A\n"
     ]
    },
    {
     "name": "stdout",
     "output_type": "stream",
     "text": [
      "\r",
      "mPIE:  21%|███████████████▊                                                           | 21/100 [00:07<00:26,  2.97it/s]"
     ]
    },
    {
     "name": "stderr",
     "output_type": "stream",
     "text": [
      "\n",
      "  0%|                                                                                          | 0/100 [00:00<?, ?it/s]\u001b[A\n",
      "100%|███████████████████████████████████████████████████████████████████████████████| 100/100 [00:00<00:00, 497.38it/s]\u001b[A\n"
     ]
    },
    {
     "name": "stdout",
     "output_type": "stream",
     "text": [
      "\r",
      "mPIE:  22%|████████████████▌                                                          | 22/100 [00:07<00:26,  2.97it/s]"
     ]
    },
    {
     "name": "stderr",
     "output_type": "stream",
     "text": [
      "\n",
      "  0%|                                                                                          | 0/100 [00:00<?, ?it/s]\u001b[A\n",
      " 44%|███████████████████████████████████▏                                            | 44/100 [00:00<00:00, 424.96it/s]\u001b[A\n",
      "100%|███████████████████████████████████████████████████████████████████████████████| 100/100 [00:00<00:00, 462.72it/s]\u001b[A\n"
     ]
    },
    {
     "name": "stdout",
     "output_type": "stream",
     "text": [
      "\r",
      "mPIE:  23%|█████████████████▎                                                         | 23/100 [00:07<00:26,  2.91it/s]"
     ]
    },
    {
     "name": "stderr",
     "output_type": "stream",
     "text": [
      "\n",
      "  0%|                                                                                          | 0/100 [00:00<?, ?it/s]\u001b[A\n",
      " 49%|███████████████████████████████████████▏                                        | 49/100 [00:00<00:00, 485.15it/s]\u001b[A\n",
      "100%|███████████████████████████████████████████████████████████████████████████████| 100/100 [00:00<00:00, 496.76it/s]\u001b[A\n"
     ]
    },
    {
     "name": "stdout",
     "output_type": "stream",
     "text": [
      "\r",
      "mPIE:  24%|██████████████████                                                         | 24/100 [00:08<00:26,  2.91it/s]"
     ]
    },
    {
     "name": "stderr",
     "output_type": "stream",
     "text": [
      "\n",
      "  0%|                                                                                          | 0/100 [00:00<?, ?it/s]\u001b[A\n",
      "100%|███████████████████████████████████████████████████████████████████████████████| 100/100 [00:00<00:00, 475.68it/s]\u001b[A\n"
     ]
    },
    {
     "name": "stdout",
     "output_type": "stream",
     "text": [
      "\r",
      "mPIE:  25%|██████████████████▊                                                        | 25/100 [00:08<00:25,  2.91it/s]"
     ]
    },
    {
     "name": "stderr",
     "output_type": "stream",
     "text": [
      "\n",
      "  0%|                                                                                          | 0/100 [00:00<?, ?it/s]\u001b[A\n",
      "100%|███████████████████████████████████████████████████████████████████████████████| 100/100 [00:00<00:00, 516.33it/s]\u001b[A\n"
     ]
    },
    {
     "name": "stdout",
     "output_type": "stream",
     "text": [
      "\r",
      "mPIE:  26%|███████████████████▌                                                       | 26/100 [00:08<00:25,  2.93it/s]"
     ]
    },
    {
     "name": "stderr",
     "output_type": "stream",
     "text": [
      "\n",
      "  0%|                                                                                          | 0/100 [00:00<?, ?it/s]\u001b[A\n",
      " 43%|██████████████████████████████████▍                                             | 43/100 [00:00<00:00, 426.82it/s]\u001b[A\n",
      "100%|███████████████████████████████████████████████████████████████████████████████| 100/100 [00:00<00:00, 443.38it/s]\u001b[A\n"
     ]
    },
    {
     "name": "stdout",
     "output_type": "stream",
     "text": [
      "\r",
      "mPIE:  27%|████████████████████▎                                                      | 27/100 [00:09<00:25,  2.85it/s]"
     ]
    },
    {
     "name": "stderr",
     "output_type": "stream",
     "text": [
      "\n",
      "  0%|                                                                                          | 0/100 [00:00<?, ?it/s]\u001b[A\n",
      "100%|███████████████████████████████████████████████████████████████████████████████| 100/100 [00:00<00:00, 524.08it/s]\u001b[A\n"
     ]
    },
    {
     "name": "stdout",
     "output_type": "stream",
     "text": [
      "\r",
      "mPIE:  28%|█████████████████████                                                      | 28/100 [00:09<00:24,  2.92it/s]"
     ]
    },
    {
     "name": "stderr",
     "output_type": "stream",
     "text": [
      "\n",
      "  0%|                                                                                          | 0/100 [00:00<?, ?it/s]\u001b[A\n",
      " 45%|████████████████████████████████████                                            | 45/100 [00:00<00:00, 406.87it/s]\u001b[A\n",
      "100%|███████████████████████████████████████████████████████████████████████████████| 100/100 [00:00<00:00, 439.80it/s]\u001b[A\n"
     ]
    },
    {
     "name": "stdout",
     "output_type": "stream",
     "text": [
      "\r",
      "mPIE:  29%|█████████████████████▊                                                     | 29/100 [00:09<00:24,  2.87it/s]"
     ]
    },
    {
     "name": "stderr",
     "output_type": "stream",
     "text": [
      "\n",
      "  0%|                                                                                          | 0/100 [00:00<?, ?it/s]\u001b[A\n",
      " 39%|███████████████████████████████▏                                                | 39/100 [00:00<00:00, 388.86it/s]\u001b[A\n",
      "100%|███████████████████████████████████████████████████████████████████████████████| 100/100 [00:00<00:00, 446.81it/s]\u001b[A\n"
     ]
    },
    {
     "name": "stdout",
     "output_type": "stream",
     "text": [
      "\r",
      "mPIE:  30%|██████████████████████▌                                                    | 30/100 [00:10<00:24,  2.82it/s]"
     ]
    },
    {
     "name": "stderr",
     "output_type": "stream",
     "text": [
      "\n",
      "  0%|                                                                                          | 0/100 [00:00<?, ?it/s]\u001b[A\n",
      "100%|███████████████████████████████████████████████████████████████████████████████| 100/100 [00:00<00:00, 442.45it/s]\u001b[A\n"
     ]
    },
    {
     "name": "stdout",
     "output_type": "stream",
     "text": [
      "\r",
      "mPIE:  31%|███████████████████████▎                                                   | 31/100 [00:10<00:24,  2.82it/s]"
     ]
    },
    {
     "name": "stderr",
     "output_type": "stream",
     "text": [
      "\n",
      "  0%|                                                                                          | 0/100 [00:00<?, ?it/s]\u001b[A\n",
      " 43%|██████████████████████████████████▍                                             | 43/100 [00:00<00:00, 429.64it/s]\u001b[A\n",
      "100%|███████████████████████████████████████████████████████████████████████████████| 100/100 [00:00<00:00, 471.87it/s]\u001b[A\n"
     ]
    },
    {
     "name": "stdout",
     "output_type": "stream",
     "text": [
      "\r",
      "mPIE:  32%|████████████████████████                                                   | 32/100 [00:10<00:23,  2.85it/s]"
     ]
    },
    {
     "name": "stderr",
     "output_type": "stream",
     "text": [
      "\n",
      "  0%|                                                                                          | 0/100 [00:00<?, ?it/s]\u001b[A\n",
      " 43%|██████████████████████████████████▍                                             | 43/100 [00:00<00:00, 429.81it/s]\u001b[A\n",
      "100%|███████████████████████████████████████████████████████████████████████████████| 100/100 [00:00<00:00, 494.20it/s]\u001b[A\n"
     ]
    },
    {
     "name": "stdout",
     "output_type": "stream",
     "text": [
      "\r",
      "mPIE:  33%|████████████████████████▊                                                  | 33/100 [00:11<00:23,  2.87it/s]"
     ]
    },
    {
     "name": "stderr",
     "output_type": "stream",
     "text": [
      "\n",
      "  0%|                                                                                          | 0/100 [00:00<?, ?it/s]\u001b[A\n",
      " 41%|████████████████████████████████▊                                               | 41/100 [00:00<00:00, 409.51it/s]\u001b[A\n",
      "100%|███████████████████████████████████████████████████████████████████████████████| 100/100 [00:00<00:00, 457.52it/s]\u001b[A\n"
     ]
    },
    {
     "name": "stdout",
     "output_type": "stream",
     "text": [
      "\r",
      "mPIE:  34%|█████████████████████████▌                                                 | 34/100 [00:11<00:23,  2.84it/s]"
     ]
    },
    {
     "name": "stderr",
     "output_type": "stream",
     "text": [
      "\n",
      "  0%|                                                                                          | 0/100 [00:00<?, ?it/s]\u001b[A\n",
      "100%|███████████████████████████████████████████████████████████████████████████████| 100/100 [00:00<00:00, 515.38it/s]\u001b[A\n"
     ]
    },
    {
     "name": "stdout",
     "output_type": "stream",
     "text": [
      "\r",
      "mPIE:  35%|██████████████████████████▎                                                | 35/100 [00:11<00:22,  2.92it/s]"
     ]
    },
    {
     "name": "stderr",
     "output_type": "stream",
     "text": [
      "\n",
      "  0%|                                                                                          | 0/100 [00:00<?, ?it/s]\u001b[A\n",
      "100%|███████████████████████████████████████████████████████████████████████████████| 100/100 [00:00<00:00, 501.12it/s]\u001b[A\n"
     ]
    },
    {
     "name": "stdout",
     "output_type": "stream",
     "text": [
      "\r",
      "mPIE:  36%|███████████████████████████                                                | 36/100 [00:12<00:21,  2.93it/s]"
     ]
    },
    {
     "name": "stderr",
     "output_type": "stream",
     "text": [
      "\n",
      "  0%|                                                                                          | 0/100 [00:00<?, ?it/s]\u001b[A\n",
      " 42%|█████████████████████████████████▌                                              | 42/100 [00:00<00:00, 412.77it/s]\u001b[A\n",
      "100%|███████████████████████████████████████████████████████████████████████████████| 100/100 [00:00<00:00, 463.21it/s]\u001b[A\n"
     ]
    },
    {
     "name": "stdout",
     "output_type": "stream",
     "text": [
      "\r",
      "mPIE:  37%|███████████████████████████▊                                               | 37/100 [00:12<00:21,  2.94it/s]"
     ]
    },
    {
     "name": "stderr",
     "output_type": "stream",
     "text": [
      "\n",
      "  0%|                                                                                          | 0/100 [00:00<?, ?it/s]\u001b[A\n",
      "100%|███████████████████████████████████████████████████████████████████████████████| 100/100 [00:00<00:00, 507.07it/s]\u001b[A\n"
     ]
    },
    {
     "name": "stdout",
     "output_type": "stream",
     "text": [
      "\r",
      "mPIE:  38%|████████████████████████████▌                                              | 38/100 [00:13<00:21,  2.93it/s]"
     ]
    },
    {
     "name": "stderr",
     "output_type": "stream",
     "text": [
      "\n",
      "  0%|                                                                                          | 0/100 [00:00<?, ?it/s]\u001b[A\n",
      "100%|███████████████████████████████████████████████████████████████████████████████| 100/100 [00:00<00:00, 485.36it/s]\u001b[A\n"
     ]
    },
    {
     "name": "stdout",
     "output_type": "stream",
     "text": [
      "\r",
      "mPIE:  39%|█████████████████████████████▎                                             | 39/100 [00:13<00:20,  2.93it/s]"
     ]
    },
    {
     "name": "stderr",
     "output_type": "stream",
     "text": [
      "\n",
      "  0%|                                                                                          | 0/100 [00:00<?, ?it/s]\u001b[A\n",
      " 46%|████████████████████████████████████▊                                           | 46/100 [00:00<00:00, 454.18it/s]\u001b[A\n",
      "100%|███████████████████████████████████████████████████████████████████████████████| 100/100 [00:00<00:00, 476.22it/s]\u001b[A\n"
     ]
    },
    {
     "name": "stdout",
     "output_type": "stream",
     "text": [
      "\r",
      "mPIE:  40%|██████████████████████████████                                             | 40/100 [00:13<00:20,  2.93it/s]"
     ]
    },
    {
     "name": "stderr",
     "output_type": "stream",
     "text": [
      "\n",
      "  0%|                                                                                          | 0/100 [00:00<?, ?it/s]\u001b[A\n",
      " 48%|██████████████████████████████████████▍                                         | 48/100 [00:00<00:00, 479.29it/s]\u001b[A\n",
      "100%|███████████████████████████████████████████████████████████████████████████████| 100/100 [00:00<00:00, 476.21it/s]\u001b[A\n"
     ]
    },
    {
     "name": "stdout",
     "output_type": "stream",
     "text": [
      "\r",
      "mPIE:  41%|██████████████████████████████▋                                            | 41/100 [00:14<00:20,  2.92it/s]"
     ]
    },
    {
     "name": "stderr",
     "output_type": "stream",
     "text": [
      "\n",
      "  0%|                                                                                          | 0/100 [00:00<?, ?it/s]\u001b[A\n",
      "100%|███████████████████████████████████████████████████████████████████████████████| 100/100 [00:00<00:00, 497.01it/s]\u001b[A\n"
     ]
    },
    {
     "name": "stdout",
     "output_type": "stream",
     "text": [
      "\r",
      "mPIE:  42%|███████████████████████████████▌                                           | 42/100 [00:14<00:19,  2.94it/s]"
     ]
    },
    {
     "name": "stderr",
     "output_type": "stream",
     "text": [
      "\n",
      "  0%|                                                                                          | 0/100 [00:00<?, ?it/s]\u001b[A\n",
      " 47%|█████████████████████████████████████▌                                          | 47/100 [00:00<00:00, 449.18it/s]\u001b[A\n",
      "100%|███████████████████████████████████████████████████████████████████████████████| 100/100 [00:00<00:00, 471.55it/s]\u001b[A\n"
     ]
    },
    {
     "name": "stdout",
     "output_type": "stream",
     "text": [
      "\r",
      "mPIE:  43%|████████████████████████████████▎                                          | 43/100 [00:14<00:19,  2.92it/s]"
     ]
    },
    {
     "name": "stderr",
     "output_type": "stream",
     "text": [
      "\n",
      "  0%|                                                                                          | 0/100 [00:00<?, ?it/s]\u001b[A\n",
      " 43%|██████████████████████████████████▍                                             | 43/100 [00:00<00:00, 423.15it/s]\u001b[A\n",
      "100%|███████████████████████████████████████████████████████████████████████████████| 100/100 [00:00<00:00, 453.46it/s]\u001b[A\n"
     ]
    },
    {
     "name": "stdout",
     "output_type": "stream",
     "text": [
      "\r",
      "mPIE:  44%|█████████████████████████████████                                          | 44/100 [00:15<00:19,  2.86it/s]"
     ]
    },
    {
     "name": "stderr",
     "output_type": "stream",
     "text": [
      "\n",
      "  0%|                                                                                          | 0/100 [00:00<?, ?it/s]\u001b[A\n",
      "100%|███████████████████████████████████████████████████████████████████████████████| 100/100 [00:00<00:00, 470.85it/s]\u001b[A\n"
     ]
    },
    {
     "name": "stdout",
     "output_type": "stream",
     "text": [
      "\r",
      "mPIE:  45%|█████████████████████████████████▊                                         | 45/100 [00:15<00:19,  2.85it/s]"
     ]
    },
    {
     "name": "stderr",
     "output_type": "stream",
     "text": [
      "\n",
      "  0%|                                                                                          | 0/100 [00:00<?, ?it/s]\u001b[A\n",
      " 46%|████████████████████████████████████▊                                           | 46/100 [00:00<00:00, 457.78it/s]\u001b[A\n",
      "100%|███████████████████████████████████████████████████████████████████████████████| 100/100 [00:00<00:00, 480.67it/s]\u001b[A\n"
     ]
    },
    {
     "name": "stdout",
     "output_type": "stream",
     "text": [
      "\r",
      "mPIE:  46%|██████████████████████████████████▌                                        | 46/100 [00:15<00:18,  2.85it/s]"
     ]
    },
    {
     "name": "stderr",
     "output_type": "stream",
     "text": [
      "\n",
      "  0%|                                                                                          | 0/100 [00:00<?, ?it/s]\u001b[A\n",
      "100%|███████████████████████████████████████████████████████████████████████████████| 100/100 [00:00<00:00, 492.15it/s]\u001b[A\n"
     ]
    },
    {
     "name": "stdout",
     "output_type": "stream",
     "text": [
      "\r",
      "mPIE:  47%|███████████████████████████████████▎                                       | 47/100 [00:16<00:18,  2.88it/s]"
     ]
    },
    {
     "name": "stderr",
     "output_type": "stream",
     "text": [
      "\n",
      "  0%|                                                                                          | 0/100 [00:00<?, ?it/s]\u001b[A\n",
      " 49%|███████████████████████████████████████▏                                        | 49/100 [00:00<00:00, 487.85it/s]\u001b[A\n",
      "100%|███████████████████████████████████████████████████████████████████████████████| 100/100 [00:00<00:00, 493.92it/s]\u001b[A\n"
     ]
    },
    {
     "name": "stdout",
     "output_type": "stream",
     "text": [
      "\r",
      "mPIE:  48%|████████████████████████████████████                                       | 48/100 [00:16<00:17,  2.92it/s]"
     ]
    },
    {
     "name": "stderr",
     "output_type": "stream",
     "text": [
      "\n",
      "  0%|                                                                                          | 0/100 [00:00<?, ?it/s]\u001b[A\n",
      " 39%|███████████████████████████████▏                                                | 39/100 [00:00<00:00, 389.27it/s]\u001b[A\n",
      "100%|███████████████████████████████████████████████████████████████████████████████| 100/100 [00:00<00:00, 458.51it/s]\u001b[A\n"
     ]
    },
    {
     "name": "stdout",
     "output_type": "stream",
     "text": [
      "\r",
      "mPIE:  49%|████████████████████████████████████▊                                      | 49/100 [00:16<00:17,  2.90it/s]"
     ]
    },
    {
     "name": "stderr",
     "output_type": "stream",
     "text": [
      "\n",
      "  0%|                                                                                          | 0/100 [00:00<?, ?it/s]\u001b[A\n",
      " 39%|███████████████████████████████▏                                                | 39/100 [00:00<00:00, 388.59it/s]\u001b[A\n",
      "100%|███████████████████████████████████████████████████████████████████████████████| 100/100 [00:00<00:00, 453.86it/s]\u001b[A\n"
     ]
    },
    {
     "name": "stdout",
     "output_type": "stream",
     "text": [
      "\r",
      "mPIE:  50%|█████████████████████████████████████▌                                     | 50/100 [00:17<00:17,  2.85it/s]"
     ]
    },
    {
     "name": "stderr",
     "output_type": "stream",
     "text": [
      "\n",
      "  0%|                                                                                          | 0/100 [00:00<?, ?it/s]\u001b[A\n",
      " 50%|████████████████████████████████████████                                        | 50/100 [00:00<00:00, 470.70it/s]\u001b[A\n",
      "100%|███████████████████████████████████████████████████████████████████████████████| 100/100 [00:00<00:00, 446.88it/s]\u001b[A\n"
     ]
    },
    {
     "name": "stdout",
     "output_type": "stream",
     "text": [
      "\r",
      "mPIE:  51%|██████████████████████████████████████▎                                    | 51/100 [00:17<00:17,  2.83it/s]"
     ]
    },
    {
     "name": "stderr",
     "output_type": "stream",
     "text": [
      "\n",
      "  0%|                                                                                          | 0/100 [00:00<?, ?it/s]\u001b[A\n",
      "100%|███████████████████████████████████████████████████████████████████████████████| 100/100 [00:00<00:00, 496.80it/s]\u001b[A\n"
     ]
    },
    {
     "name": "stdout",
     "output_type": "stream",
     "text": [
      "\r",
      "mPIE:  52%|███████████████████████████████████████                                    | 52/100 [00:17<00:16,  2.88it/s]"
     ]
    },
    {
     "name": "stderr",
     "output_type": "stream",
     "text": [
      "\n",
      "  0%|                                                                                          | 0/100 [00:00<?, ?it/s]\u001b[A\n",
      " 39%|███████████████████████████████▏                                                | 39/100 [00:00<00:00, 385.99it/s]\u001b[A\n",
      "100%|███████████████████████████████████████████████████████████████████████████████| 100/100 [00:00<00:00, 426.37it/s]\u001b[A\n"
     ]
    },
    {
     "name": "stdout",
     "output_type": "stream",
     "text": [
      "\r",
      "mPIE:  53%|███████████████████████████████████████▊                                   | 53/100 [00:18<00:16,  2.79it/s]"
     ]
    },
    {
     "name": "stderr",
     "output_type": "stream",
     "text": [
      "\n",
      "  0%|                                                                                          | 0/100 [00:00<?, ?it/s]\u001b[A\n",
      "100%|███████████████████████████████████████████████████████████████████████████████| 100/100 [00:00<00:00, 500.65it/s]\u001b[A\n"
     ]
    },
    {
     "name": "stdout",
     "output_type": "stream",
     "text": [
      "\r",
      "mPIE:  54%|████████████████████████████████████████▌                                  | 54/100 [00:18<00:16,  2.84it/s]"
     ]
    },
    {
     "name": "stderr",
     "output_type": "stream",
     "text": [
      "\n",
      "  0%|                                                                                          | 0/100 [00:00<?, ?it/s]\u001b[A\n",
      " 45%|████████████████████████████████████                                            | 45/100 [00:00<00:00, 446.06it/s]\u001b[A\n",
      "100%|███████████████████████████████████████████████████████████████████████████████| 100/100 [00:00<00:00, 476.83it/s]\u001b[A\n"
     ]
    },
    {
     "name": "stdout",
     "output_type": "stream",
     "text": [
      "\r",
      "mPIE:  55%|█████████████████████████████████████████▎                                 | 55/100 [00:18<00:15,  2.89it/s]"
     ]
    },
    {
     "name": "stderr",
     "output_type": "stream",
     "text": [
      "\n",
      "  0%|                                                                                          | 0/100 [00:00<?, ?it/s]\u001b[A\n",
      " 35%|████████████████████████████                                                    | 35/100 [00:00<00:00, 346.06it/s]\u001b[A\n",
      "100%|███████████████████████████████████████████████████████████████████████████████| 100/100 [00:00<00:00, 419.26it/s]\u001b[A\n"
     ]
    },
    {
     "name": "stdout",
     "output_type": "stream",
     "text": [
      "\r",
      "mPIE:  56%|██████████████████████████████████████████                                 | 56/100 [00:19<00:15,  2.85it/s]"
     ]
    },
    {
     "name": "stderr",
     "output_type": "stream",
     "text": [
      "\n",
      "  0%|                                                                                          | 0/100 [00:00<?, ?it/s]\u001b[A\n",
      " 49%|███████████████████████████████████████▏                                        | 49/100 [00:00<00:00, 489.99it/s]\u001b[A\n",
      "100%|███████████████████████████████████████████████████████████████████████████████| 100/100 [00:00<00:00, 488.97it/s]\u001b[A\n"
     ]
    },
    {
     "name": "stdout",
     "output_type": "stream",
     "text": [
      "\r",
      "mPIE:  57%|██████████████████████████████████████████▋                                | 57/100 [00:19<00:15,  2.82it/s]"
     ]
    },
    {
     "name": "stderr",
     "output_type": "stream",
     "text": [
      "\n",
      "  0%|                                                                                          | 0/100 [00:00<?, ?it/s]\u001b[A\n",
      " 51%|████████████████████████████████████████▊                                       | 51/100 [00:00<00:00, 444.76it/s]\u001b[A\n",
      "100%|███████████████████████████████████████████████████████████████████████████████| 100/100 [00:00<00:00, 452.52it/s]\u001b[A\n"
     ]
    },
    {
     "name": "stdout",
     "output_type": "stream",
     "text": [
      "\r",
      "mPIE:  58%|███████████████████████████████████████████▌                               | 58/100 [00:20<00:15,  2.78it/s]"
     ]
    },
    {
     "name": "stderr",
     "output_type": "stream",
     "text": [
      "\n",
      "  0%|                                                                                          | 0/100 [00:00<?, ?it/s]\u001b[A\n",
      " 45%|████████████████████████████████████                                            | 45/100 [00:00<00:00, 445.18it/s]\u001b[A\n",
      "100%|███████████████████████████████████████████████████████████████████████████████| 100/100 [00:00<00:00, 429.83it/s]\u001b[A\n"
     ]
    },
    {
     "name": "stdout",
     "output_type": "stream",
     "text": [
      "\r",
      "mPIE:  59%|████████████████████████████████████████████▎                              | 59/100 [00:20<00:15,  2.72it/s]"
     ]
    },
    {
     "name": "stderr",
     "output_type": "stream",
     "text": [
      "\n",
      "  0%|                                                                                          | 0/100 [00:00<?, ?it/s]\u001b[A\n",
      " 47%|█████████████████████████████████████▌                                          | 47/100 [00:00<00:00, 469.86it/s]\u001b[A\n",
      "100%|███████████████████████████████████████████████████████████████████████████████| 100/100 [00:00<00:00, 463.66it/s]\u001b[A\n"
     ]
    },
    {
     "name": "stdout",
     "output_type": "stream",
     "text": [
      "\r",
      "mPIE:  60%|█████████████████████████████████████████████                              | 60/100 [00:20<00:14,  2.76it/s]"
     ]
    },
    {
     "name": "stderr",
     "output_type": "stream",
     "text": [
      "\n",
      "  0%|                                                                                          | 0/100 [00:00<?, ?it/s]\u001b[A\n",
      "100%|███████████████████████████████████████████████████████████████████████████████| 100/100 [00:00<00:00, 507.67it/s]\u001b[A\n"
     ]
    },
    {
     "name": "stdout",
     "output_type": "stream",
     "text": [
      "\r",
      "mPIE:  61%|█████████████████████████████████████████████▊                             | 61/100 [00:21<00:13,  2.79it/s]"
     ]
    },
    {
     "name": "stderr",
     "output_type": "stream",
     "text": [
      "\n",
      "  0%|                                                                                          | 0/100 [00:00<?, ?it/s]\u001b[A\n",
      "100%|███████████████████████████████████████████████████████████████████████████████| 100/100 [00:00<00:00, 480.41it/s]\u001b[A\n"
     ]
    },
    {
     "name": "stdout",
     "output_type": "stream",
     "text": [
      "\r",
      "mPIE:  62%|██████████████████████████████████████████████▌                            | 62/100 [00:21<00:13,  2.85it/s]"
     ]
    },
    {
     "name": "stderr",
     "output_type": "stream",
     "text": [
      "\n",
      "  0%|                                                                                          | 0/100 [00:00<?, ?it/s]\u001b[A\n",
      "100%|███████████████████████████████████████████████████████████████████████████████| 100/100 [00:00<00:00, 533.54it/s]\u001b[A\n"
     ]
    },
    {
     "name": "stdout",
     "output_type": "stream",
     "text": [
      "\r",
      "mPIE:  63%|███████████████████████████████████████████████▎                           | 63/100 [00:21<00:12,  2.94it/s]"
     ]
    },
    {
     "name": "stderr",
     "output_type": "stream",
     "text": [
      "\n",
      "  0%|                                                                                          | 0/100 [00:00<?, ?it/s]\u001b[A\n",
      " 35%|████████████████████████████                                                    | 35/100 [00:00<00:00, 347.57it/s]\u001b[A\n",
      "100%|███████████████████████████████████████████████████████████████████████████████| 100/100 [00:00<00:00, 431.67it/s]\u001b[A\n"
     ]
    },
    {
     "name": "stdout",
     "output_type": "stream",
     "text": [
      "\r",
      "mPIE:  64%|████████████████████████████████████████████████                           | 64/100 [00:22<00:12,  2.90it/s]"
     ]
    },
    {
     "name": "stderr",
     "output_type": "stream",
     "text": [
      "\n",
      "  0%|                                                                                          | 0/100 [00:00<?, ?it/s]\u001b[A\n",
      " 50%|████████████████████████████████████████                                        | 50/100 [00:00<00:00, 440.30it/s]\u001b[A\n",
      "100%|███████████████████████████████████████████████████████████████████████████████| 100/100 [00:00<00:00, 440.60it/s]\u001b[A\n"
     ]
    },
    {
     "name": "stdout",
     "output_type": "stream",
     "text": [
      "\r",
      "mPIE:  65%|████████████████████████████████████████████████▊                          | 65/100 [00:22<00:12,  2.82it/s]"
     ]
    },
    {
     "name": "stderr",
     "output_type": "stream",
     "text": [
      "\n",
      "  0%|                                                                                          | 0/100 [00:00<?, ?it/s]\u001b[A\n",
      "100%|███████████████████████████████████████████████████████████████████████████████| 100/100 [00:00<00:00, 537.70it/s]\u001b[A\n"
     ]
    },
    {
     "name": "stdout",
     "output_type": "stream",
     "text": [
      "\r",
      "mPIE:  66%|█████████████████████████████████████████████████▌                         | 66/100 [00:22<00:11,  2.93it/s]"
     ]
    },
    {
     "name": "stderr",
     "output_type": "stream",
     "text": [
      "\n",
      "  0%|                                                                                          | 0/100 [00:00<?, ?it/s]\u001b[A\n",
      "100%|███████████████████████████████████████████████████████████████████████████████| 100/100 [00:00<00:00, 539.10it/s]\u001b[A\n"
     ]
    },
    {
     "name": "stdout",
     "output_type": "stream",
     "text": [
      "\r",
      "mPIE:  67%|██████████████████████████████████████████████████▎                        | 67/100 [00:23<00:11,  2.97it/s]"
     ]
    },
    {
     "name": "stderr",
     "output_type": "stream",
     "text": [
      "\n",
      "  0%|                                                                                          | 0/100 [00:00<?, ?it/s]\u001b[A\n",
      "100%|███████████████████████████████████████████████████████████████████████████████| 100/100 [00:00<00:00, 533.46it/s]\u001b[A\n"
     ]
    },
    {
     "name": "stdout",
     "output_type": "stream",
     "text": [
      "\r",
      "mPIE:  68%|███████████████████████████████████████████████████                        | 68/100 [00:23<00:10,  3.03it/s]"
     ]
    },
    {
     "name": "stderr",
     "output_type": "stream",
     "text": [
      "\n",
      "  0%|                                                                                          | 0/100 [00:00<?, ?it/s]\u001b[A\n",
      "100%|███████████████████████████████████████████████████████████████████████████████| 100/100 [00:00<00:00, 533.46it/s]\u001b[A\n"
     ]
    },
    {
     "name": "stdout",
     "output_type": "stream",
     "text": [
      "\r",
      "mPIE:  69%|███████████████████████████████████████████████████▋                       | 69/100 [00:23<00:10,  3.04it/s]"
     ]
    },
    {
     "name": "stderr",
     "output_type": "stream",
     "text": [
      "\n",
      "  0%|                                                                                          | 0/100 [00:00<?, ?it/s]\u001b[A\n",
      "100%|███████████████████████████████████████████████████████████████████████████████| 100/100 [00:00<00:00, 533.46it/s]\u001b[A\n"
     ]
    },
    {
     "name": "stdout",
     "output_type": "stream",
     "text": [
      "\r",
      "mPIE:  70%|████████████████████████████████████████████████████▌                      | 70/100 [00:24<00:09,  3.08it/s]"
     ]
    },
    {
     "name": "stderr",
     "output_type": "stream",
     "text": [
      "\n",
      "  0%|                                                                                          | 0/100 [00:00<?, ?it/s]\u001b[A\n",
      "100%|███████████████████████████████████████████████████████████████████████████████| 100/100 [00:00<00:00, 533.38it/s]\u001b[A\n"
     ]
    },
    {
     "name": "stdout",
     "output_type": "stream",
     "text": [
      "\r",
      "mPIE:  71%|█████████████████████████████████████████████████████▎                     | 71/100 [00:24<00:09,  3.07it/s]"
     ]
    },
    {
     "name": "stderr",
     "output_type": "stream",
     "text": [
      "\n",
      "  0%|                                                                                          | 0/100 [00:00<?, ?it/s]\u001b[A\n",
      "100%|███████████████████████████████████████████████████████████████████████████████| 100/100 [00:00<00:00, 526.40it/s]\u001b[A\n"
     ]
    },
    {
     "name": "stdout",
     "output_type": "stream",
     "text": [
      "\r",
      "mPIE:  72%|██████████████████████████████████████████████████████                     | 72/100 [00:24<00:09,  3.06it/s]"
     ]
    },
    {
     "name": "stderr",
     "output_type": "stream",
     "text": [
      "\n",
      "  0%|                                                                                          | 0/100 [00:00<?, ?it/s]\u001b[A\n",
      "100%|███████████████████████████████████████████████████████████████████████████████| 100/100 [00:00<00:00, 492.43it/s]\u001b[A\n"
     ]
    },
    {
     "name": "stdout",
     "output_type": "stream",
     "text": [
      "\r",
      "mPIE:  73%|██████████████████████████████████████████████████████▊                    | 73/100 [00:25<00:08,  3.06it/s]"
     ]
    },
    {
     "name": "stderr",
     "output_type": "stream",
     "text": [
      "\n",
      "  0%|                                                                                          | 0/100 [00:00<?, ?it/s]\u001b[A\n",
      "100%|███████████████████████████████████████████████████████████████████████████████| 100/100 [00:00<00:00, 492.43it/s]\u001b[A\n"
     ]
    },
    {
     "name": "stdout",
     "output_type": "stream",
     "text": [
      "\r",
      "mPIE:  74%|███████████████████████████████████████████████████████▌                   | 74/100 [00:25<00:08,  3.01it/s]"
     ]
    },
    {
     "name": "stderr",
     "output_type": "stream",
     "text": [
      "\n",
      "  0%|                                                                                          | 0/100 [00:00<?, ?it/s]\u001b[A\n",
      "100%|███████████████████████████████████████████████████████████████████████████████| 100/100 [00:00<00:00, 533.47it/s]\u001b[A\n"
     ]
    },
    {
     "name": "stdout",
     "output_type": "stream",
     "text": [
      "\r",
      "mPIE:  75%|████████████████████████████████████████████████████████▎                  | 75/100 [00:25<00:08,  3.02it/s]"
     ]
    },
    {
     "name": "stderr",
     "output_type": "stream",
     "text": [
      "\n",
      "  0%|                                                                                          | 0/100 [00:00<?, ?it/s]\u001b[A\n",
      " 44%|███████████████████████████████████▏                                            | 44/100 [00:00<00:00, 430.45it/s]\u001b[A\n",
      "100%|███████████████████████████████████████████████████████████████████████████████| 100/100 [00:00<00:00, 472.66it/s]\u001b[A\n"
     ]
    },
    {
     "name": "stdout",
     "output_type": "stream",
     "text": [
      "\r",
      "mPIE:  76%|█████████████████████████████████████████████████████████                  | 76/100 [00:26<00:07,  3.01it/s]"
     ]
    },
    {
     "name": "stderr",
     "output_type": "stream",
     "text": [
      "\n",
      "  0%|                                                                                          | 0/100 [00:00<?, ?it/s]\u001b[A\n",
      "100%|███████████████████████████████████████████████████████████████████████████████| 100/100 [00:00<00:00, 533.38it/s]\u001b[A\n"
     ]
    },
    {
     "name": "stdout",
     "output_type": "stream",
     "text": [
      "\r",
      "mPIE:  77%|█████████████████████████████████████████████████████████▊                 | 77/100 [00:26<00:07,  2.98it/s]"
     ]
    },
    {
     "name": "stderr",
     "output_type": "stream",
     "text": [
      "\n",
      "  0%|                                                                                          | 0/100 [00:00<?, ?it/s]\u001b[A\n",
      "100%|███████████████████████████████████████████████████████████████████████████████| 100/100 [00:00<00:00, 492.42it/s]\u001b[A\n"
     ]
    },
    {
     "name": "stdout",
     "output_type": "stream",
     "text": [
      "\r",
      "mPIE:  78%|██████████████████████████████████████████████████████████▌                | 78/100 [00:26<00:07,  3.00it/s]"
     ]
    },
    {
     "name": "stderr",
     "output_type": "stream",
     "text": [
      "\n",
      "  0%|                                                                                          | 0/100 [00:00<?, ?it/s]\u001b[A\n",
      "100%|███████████████████████████████████████████████████████████████████████████████| 100/100 [00:00<00:00, 533.99it/s]\u001b[A\n"
     ]
    },
    {
     "name": "stdout",
     "output_type": "stream",
     "text": [
      "\r",
      "mPIE:  79%|███████████████████████████████████████████████████████████▎               | 79/100 [00:27<00:06,  3.01it/s]"
     ]
    },
    {
     "name": "stderr",
     "output_type": "stream",
     "text": [
      "\n",
      "  0%|                                                                                          | 0/100 [00:00<?, ?it/s]\u001b[A\n",
      "100%|███████████████████████████████████████████████████████████████████████████████| 100/100 [00:00<00:00, 533.46it/s]\u001b[A\n"
     ]
    },
    {
     "name": "stdout",
     "output_type": "stream",
     "text": [
      "\r",
      "mPIE:  80%|████████████████████████████████████████████████████████████               | 80/100 [00:27<00:06,  3.07it/s]"
     ]
    },
    {
     "name": "stderr",
     "output_type": "stream",
     "text": [
      "\n",
      "  0%|                                                                                          | 0/100 [00:00<?, ?it/s]\u001b[A\n",
      "100%|███████████████████████████████████████████████████████████████████████████████| 100/100 [00:00<00:00, 533.46it/s]\u001b[A\n"
     ]
    },
    {
     "name": "stdout",
     "output_type": "stream",
     "text": [
      "\r",
      "mPIE:  81%|████████████████████████████████████████████████████████████▊              | 81/100 [00:27<00:06,  3.06it/s]"
     ]
    },
    {
     "name": "stderr",
     "output_type": "stream",
     "text": [
      "\n",
      "  0%|                                                                                          | 0/100 [00:00<?, ?it/s]\u001b[A\n",
      "100%|███████████████████████████████████████████████████████████████████████████████| 100/100 [00:00<00:00, 510.81it/s]\u001b[A\n"
     ]
    },
    {
     "name": "stdout",
     "output_type": "stream",
     "text": [
      "\r",
      "mPIE:  82%|█████████████████████████████████████████████████████████████▍             | 82/100 [00:28<00:05,  3.08it/s]"
     ]
    },
    {
     "name": "stderr",
     "output_type": "stream",
     "text": [
      "\n",
      "  0%|                                                                                          | 0/100 [00:00<?, ?it/s]\u001b[A\n",
      "100%|███████████████████████████████████████████████████████████████████████████████| 100/100 [00:00<00:00, 533.46it/s]\u001b[A\n"
     ]
    },
    {
     "name": "stdout",
     "output_type": "stream",
     "text": [
      "\r",
      "mPIE:  83%|██████████████████████████████████████████████████████████████▎            | 83/100 [00:28<00:05,  3.11it/s]"
     ]
    },
    {
     "name": "stderr",
     "output_type": "stream",
     "text": [
      "\n",
      "  0%|                                                                                          | 0/100 [00:00<?, ?it/s]\u001b[A\n",
      "100%|███████████████████████████████████████████████████████████████████████████████| 100/100 [00:00<00:00, 533.46it/s]\u001b[A\n"
     ]
    },
    {
     "name": "stdout",
     "output_type": "stream",
     "text": [
      "\r",
      "mPIE:  84%|███████████████████████████████████████████████████████████████            | 84/100 [00:28<00:05,  3.09it/s]"
     ]
    },
    {
     "name": "stderr",
     "output_type": "stream",
     "text": [
      "\n",
      "  0%|                                                                                          | 0/100 [00:00<?, ?it/s]\u001b[A\n",
      "100%|███████████████████████████████████████████████████████████████████████████████| 100/100 [00:00<00:00, 499.62it/s]\u001b[A\n"
     ]
    },
    {
     "name": "stdout",
     "output_type": "stream",
     "text": [
      "\r",
      "mPIE:  85%|███████████████████████████████████████████████████████████████▊           | 85/100 [00:29<00:04,  3.09it/s]"
     ]
    },
    {
     "name": "stderr",
     "output_type": "stream",
     "text": [
      "\n",
      "  0%|                                                                                          | 0/100 [00:00<?, ?it/s]\u001b[A\n",
      "100%|███████████████████████████████████████████████████████████████████████████████| 100/100 [00:00<00:00, 533.46it/s]\u001b[A\n"
     ]
    },
    {
     "name": "stdout",
     "output_type": "stream",
     "text": [
      "\r",
      "mPIE:  86%|████████████████████████████████████████████████████████████████▌          | 86/100 [00:29<00:04,  3.08it/s]"
     ]
    },
    {
     "name": "stderr",
     "output_type": "stream",
     "text": [
      "\n",
      "  0%|                                                                                          | 0/100 [00:00<?, ?it/s]\u001b[A\n",
      "100%|███████████████████████████████████████████████████████████████████████████████| 100/100 [00:00<00:00, 533.46it/s]\u001b[A\n"
     ]
    },
    {
     "name": "stdout",
     "output_type": "stream",
     "text": [
      "\r",
      "mPIE:  87%|█████████████████████████████████████████████████████████████████▎         | 87/100 [00:29<00:04,  3.11it/s]"
     ]
    },
    {
     "name": "stderr",
     "output_type": "stream",
     "text": [
      "\n",
      "  0%|                                                                                          | 0/100 [00:00<?, ?it/s]\u001b[A\n",
      "100%|███████████████████████████████████████████████████████████████████████████████| 100/100 [00:00<00:00, 492.36it/s]\u001b[A\n"
     ]
    },
    {
     "name": "stdout",
     "output_type": "stream",
     "text": [
      "\r",
      "mPIE:  88%|██████████████████████████████████████████████████████████████████         | 88/100 [00:30<00:04,  2.99it/s]"
     ]
    },
    {
     "name": "stderr",
     "output_type": "stream",
     "text": [
      "\n",
      "  0%|                                                                                          | 0/100 [00:00<?, ?it/s]\u001b[A\n",
      " 45%|████████████████████████████████████                                            | 45/100 [00:00<00:00, 449.76it/s]\u001b[A\n",
      "100%|███████████████████████████████████████████████████████████████████████████████| 100/100 [00:00<00:00, 398.92it/s]\u001b[A\n"
     ]
    },
    {
     "name": "stdout",
     "output_type": "stream",
     "text": [
      "\r",
      "mPIE:  89%|██████████████████████████████████████████████████████████████████▊        | 89/100 [00:30<00:03,  2.83it/s]"
     ]
    },
    {
     "name": "stderr",
     "output_type": "stream",
     "text": [
      "\n",
      "  0%|                                                                                          | 0/100 [00:00<?, ?it/s]\u001b[A\n",
      " 43%|██████████████████████████████████▍                                             | 43/100 [00:00<00:00, 426.88it/s]\u001b[A\n",
      "100%|███████████████████████████████████████████████████████████████████████████████| 100/100 [00:00<00:00, 443.66it/s]\u001b[A\n"
     ]
    },
    {
     "name": "stdout",
     "output_type": "stream",
     "text": [
      "\r",
      "mPIE:  90%|███████████████████████████████████████████████████████████████████▌       | 90/100 [00:30<00:03,  2.80it/s]"
     ]
    },
    {
     "name": "stderr",
     "output_type": "stream",
     "text": [
      "\n",
      "  0%|                                                                                          | 0/100 [00:00<?, ?it/s]\u001b[A\n",
      " 42%|█████████████████████████████████▌                                              | 42/100 [00:00<00:00, 408.86it/s]\u001b[A\n",
      "100%|███████████████████████████████████████████████████████████████████████████████| 100/100 [00:00<00:00, 405.94it/s]\u001b[A\n"
     ]
    },
    {
     "name": "stdout",
     "output_type": "stream",
     "text": [
      "\r",
      "mPIE:  91%|████████████████████████████████████████████████████████████████████▎      | 91/100 [00:31<00:03,  2.71it/s]"
     ]
    },
    {
     "name": "stderr",
     "output_type": "stream",
     "text": [
      "\n",
      "  0%|                                                                                          | 0/100 [00:00<?, ?it/s]\u001b[A\n",
      " 42%|█████████████████████████████████▌                                              | 42/100 [00:00<00:00, 412.87it/s]\u001b[A\n",
      "100%|███████████████████████████████████████████████████████████████████████████████| 100/100 [00:00<00:00, 428.96it/s]\u001b[A\n"
     ]
    },
    {
     "name": "stdout",
     "output_type": "stream",
     "text": [
      "\r",
      "mPIE:  92%|█████████████████████████████████████████████████████████████████████      | 92/100 [00:31<00:03,  2.66it/s]"
     ]
    },
    {
     "name": "stderr",
     "output_type": "stream",
     "text": [
      "\n",
      "  0%|                                                                                          | 0/100 [00:00<?, ?it/s]\u001b[A\n",
      " 48%|██████████████████████████████████████▍                                         | 48/100 [00:00<00:00, 450.05it/s]\u001b[A\n",
      "100%|███████████████████████████████████████████████████████████████████████████████| 100/100 [00:00<00:00, 480.25it/s]\u001b[A\n"
     ]
    },
    {
     "name": "stdout",
     "output_type": "stream",
     "text": [
      "\r",
      "mPIE:  93%|█████████████████████████████████████████████████████████████████████▊     | 93/100 [00:31<00:02,  2.73it/s]"
     ]
    },
    {
     "name": "stderr",
     "output_type": "stream",
     "text": [
      "\n",
      "  0%|                                                                                          | 0/100 [00:00<?, ?it/s]\u001b[A\n",
      "100%|███████████████████████████████████████████████████████████████████████████████| 100/100 [00:00<00:00, 488.25it/s]\u001b[A\n"
     ]
    },
    {
     "name": "stdout",
     "output_type": "stream",
     "text": [
      "\r",
      "mPIE:  94%|██████████████████████████████████████████████████████████████████████▌    | 94/100 [00:32<00:02,  2.78it/s]"
     ]
    },
    {
     "name": "stderr",
     "output_type": "stream",
     "text": [
      "\n",
      "  0%|                                                                                          | 0/100 [00:00<?, ?it/s]\u001b[A\n",
      " 48%|██████████████████████████████████████▍                                         | 48/100 [00:00<00:00, 458.91it/s]\u001b[A\n",
      "100%|███████████████████████████████████████████████████████████████████████████████| 100/100 [00:00<00:00, 475.72it/s]\u001b[A\n"
     ]
    },
    {
     "name": "stdout",
     "output_type": "stream",
     "text": [
      "\r",
      "mPIE:  95%|███████████████████████████████████████████████████████████████████████▎   | 95/100 [00:32<00:01,  2.78it/s]"
     ]
    },
    {
     "name": "stderr",
     "output_type": "stream",
     "text": [
      "\n",
      "  0%|                                                                                          | 0/100 [00:00<?, ?it/s]\u001b[A\n",
      "100%|███████████████████████████████████████████████████████████████████████████████| 100/100 [00:00<00:00, 587.25it/s]\u001b[A\n"
     ]
    },
    {
     "name": "stdout",
     "output_type": "stream",
     "text": [
      "\r",
      "mPIE:  96%|████████████████████████████████████████████████████████████████████████   | 96/100 [00:32<00:01,  2.89it/s]"
     ]
    },
    {
     "name": "stderr",
     "output_type": "stream",
     "text": [
      "\n",
      "  0%|                                                                                          | 0/100 [00:00<?, ?it/s]\u001b[A\n",
      "100%|███████████████████████████████████████████████████████████████████████████████| 100/100 [00:00<00:00, 518.34it/s]\u001b[A\n"
     ]
    },
    {
     "name": "stdout",
     "output_type": "stream",
     "text": [
      "\r",
      "mPIE:  97%|████████████████████████████████████████████████████████████████████████▊  | 97/100 [00:33<00:01,  2.96it/s]"
     ]
    },
    {
     "name": "stderr",
     "output_type": "stream",
     "text": [
      "\n",
      "  0%|                                                                                          | 0/100 [00:00<?, ?it/s]\u001b[A\n",
      "100%|███████████████████████████████████████████████████████████████████████████████| 100/100 [00:00<00:00, 508.88it/s]\u001b[A\n"
     ]
    },
    {
     "name": "stdout",
     "output_type": "stream",
     "text": [
      "\r",
      "mPIE:  98%|█████████████████████████████████████████████████████████████████████████▌ | 98/100 [00:33<00:00,  3.00it/s]"
     ]
    },
    {
     "name": "stderr",
     "output_type": "stream",
     "text": [
      "\n",
      "  0%|                                                                                          | 0/100 [00:00<?, ?it/s]\u001b[A\n",
      "100%|███████████████████████████████████████████████████████████████████████████████| 100/100 [00:00<00:00, 533.54it/s]\u001b[A\n"
     ]
    },
    {
     "name": "stdout",
     "output_type": "stream",
     "text": [
      "\r",
      "mPIE:  99%|██████████████████████████████████████████████████████████████████████████▎| 99/100 [00:33<00:00,  3.05it/s]"
     ]
    },
    {
     "name": "stderr",
     "output_type": "stream",
     "text": [
      "\n",
      "  0%|                                                                                          | 0/100 [00:00<?, ?it/s]\u001b[A\n",
      "100%|███████████████████████████████████████████████████████████████████████████████| 100/100 [00:00<00:00, 533.46it/s]\u001b[A\n"
     ]
    },
    {
     "name": "stdout",
     "output_type": "stream",
     "text": [
      "mPIE: 100%|██████████████████████████████████████████████████████████████████████████| 100/100 [00:34<00:00,  2.92it/s]\n"
     ]
    }
   ],
   "source": [
    "## switch engine if you need\n",
    "# switch to mPIE\n",
    "mPIE = PtyLab.Engines.mPIE(reconstruction, exampleData, params,monitor)\n",
    "mPIE.numIterations = 100\n",
    "mPIE.betaProbe = 0.25\n",
    "mPIE.betaObject = 0.25\n",
    "mPIE.reconstruct()"
   ]
  },
  {
   "cell_type": "code",
   "execution_count": 16,
   "metadata": {},
   "outputs": [
    {
     "name": "stdout",
     "output_type": "stream",
     "text": [
      "The reconstruction results (all) have been saved\n"
     ]
    }
   ],
   "source": [
    "## now save the data\n",
    "reconstruction.saveResults('reconstruction.hdf5')"
   ]
  },
  {
   "cell_type": "code",
   "execution_count": null,
   "metadata": {},
   "outputs": [],
   "source": []
  }
 ],
 "metadata": {
  "kernelspec": {
   "display_name": "Python 3 (ipykernel)",
   "language": "python",
   "name": "python3"
  },
  "language_info": {
   "codemirror_mode": {
    "name": "ipython",
    "version": 3
   },
   "file_extension": ".py",
   "mimetype": "text/x-python",
   "name": "python",
   "nbconvert_exporter": "python",
   "pygments_lexer": "ipython3",
   "version": "3.10.15"
  }
 },
 "nbformat": 4,
 "nbformat_minor": 4
}
